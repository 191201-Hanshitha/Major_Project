{
  "cells": [
    {
      "cell_type": "markdown",
      "metadata": {
        "id": "view-in-github",
        "colab_type": "text"
      },
      "source": [
        "<a href=\"https://colab.research.google.com/github/191201-Hanshitha/Major_Project/blob/main/Copy_of_my_Copy_of_Final_Major_Project.ipynb\" target=\"_parent\"><img src=\"https://colab.research.google.com/assets/colab-badge.svg\" alt=\"Open In Colab\"/></a>"
      ]
    },
    {
      "cell_type": "code",
      "execution_count": null,
      "metadata": {
        "id": "DBET2g2jquPh"
      },
      "outputs": [],
      "source": [
        "import warnings\n",
        "warnings.filterwarnings(\"ignore\")"
      ]
    },
    {
      "cell_type": "code",
      "execution_count": null,
      "metadata": {
        "id": "GGNziykvqxtb"
      },
      "outputs": [],
      "source": [
        "import numpy as np\n",
        "import pandas as pd\n",
        "import seaborn as sns\n",
        "import matplotlib.pyplot as plt\n",
        "from sklearn.preprocessing import LabelEncoder\n",
        "from sklearn.model_selection import train_test_split\n",
        "from sklearn.metrics import classification_report,confusion_matrix,accuracy_score,precision_recall_fscore_support\n",
        "from sklearn.metrics import f1_score,roc_auc_score\n",
        "from sklearn.ensemble import RandomForestClassifier,ExtraTreesClassifier\n",
        "from sklearn.tree import DecisionTreeClassifier\n",
        "from sklearn.ensemble import StackingClassifier\n",
        "import xgboost as xgb\n",
        "from xgboost import plot_importance"
      ]
    },
    {
      "cell_type": "code",
      "execution_count": null,
      "metadata": {
        "colab": {
          "base_uri": "https://localhost:8080/"
        },
        "id": "0NinZTpaynjA",
        "outputId": "77abe4cf-b05b-4193-dbfb-b781933dbffd"
      },
      "outputs": [
        {
          "output_type": "stream",
          "name": "stdout",
          "text": [
            "Drive already mounted at /content/drive; to attempt to forcibly remount, call drive.mount(\"/content/drive\", force_remount=True).\n"
          ]
        }
      ],
      "source": [
        "from google.colab import drive\n",
        "drive.mount('/content/drive')"
      ]
    },
    {
      "cell_type": "code",
      "execution_count": null,
      "metadata": {
        "id": "OKCLj9sut8Wv"
      },
      "outputs": [],
      "source": [
        "df = pd.read_csv('/content/drive/MyDrive/MachineLearningCSV/MachineLearningCVE/Wednesday-workingHours.pcap_ISCX.csv', skipinitialspace=True)"
      ]
    },
    {
      "cell_type": "code",
      "execution_count": null,
      "metadata": {
        "colab": {
          "base_uri": "https://localhost:8080/"
        },
        "id": "Ntgib251rdeX",
        "outputId": "cf5cfb9b-f73d-4381-d6ec-d285c608e9f1"
      },
      "outputs": [
        {
          "output_type": "execute_result",
          "data": {
            "text/plain": [
              "(692703, 79)"
            ]
          },
          "metadata": {},
          "execution_count": 142
        }
      ],
      "source": [
        "df.shape"
      ]
    },
    {
      "cell_type": "code",
      "execution_count": null,
      "metadata": {
        "colab": {
          "base_uri": "https://localhost:8080/",
          "height": 539
        },
        "id": "pY5nwutGODJv",
        "outputId": "8b651d6a-d1ed-4892-a3f1-525eac68cd61"
      },
      "outputs": [
        {
          "output_type": "execute_result",
          "data": {
            "text/plain": [
              "        Destination Port  Flow Duration  Total Fwd Packets  \\\n",
              "0                     80          38308                  1   \n",
              "1                    389            479                 11   \n",
              "2                     88           1095                 10   \n",
              "3                    389          15206                 17   \n",
              "4                     88           1092                  9   \n",
              "...                  ...            ...                ...   \n",
              "692698                53          32215                  4   \n",
              "692699                53            324                  2   \n",
              "692700             58030             82                  2   \n",
              "692701                53        1048635                  6   \n",
              "692702                53          94939                  4   \n",
              "\n",
              "        Total Backward Packets  Total Length of Fwd Packets  \\\n",
              "0                            1                            6   \n",
              "1                            5                          172   \n",
              "2                            6                         3150   \n",
              "3                           12                         3452   \n",
              "4                            6                         3150   \n",
              "...                        ...                          ...   \n",
              "692698                       2                          112   \n",
              "692699                       2                           84   \n",
              "692700                       1                           31   \n",
              "692701                       2                          192   \n",
              "692702                       2                          188   \n",
              "\n",
              "        Total Length of Bwd Packets  Fwd Packet Length Max  \\\n",
              "0                                 6                      6   \n",
              "1                               326                     79   \n",
              "2                              3150                   1575   \n",
              "3                              6660                   1313   \n",
              "4                              3152                   1575   \n",
              "...                             ...                    ...   \n",
              "692698                          152                     28   \n",
              "692699                          362                     42   \n",
              "692700                            6                     31   \n",
              "692701                          256                     32   \n",
              "692702                          226                     47   \n",
              "\n",
              "        Fwd Packet Length Min  Fwd Packet Length Mean  Fwd Packet Length Std  \\\n",
              "0                           6                6.000000               0.000000   \n",
              "1                           0               15.636364              31.449238   \n",
              "2                           0              315.000000             632.561635   \n",
              "3                           0              203.058823             425.778474   \n",
              "4                           0              350.000000             694.509719   \n",
              "...                       ...                     ...                    ...   \n",
              "692698                     28               28.000000               0.000000   \n",
              "692699                     42               42.000000               0.000000   \n",
              "692700                      0               15.500000              21.920310   \n",
              "692701                     32               32.000000               0.000000   \n",
              "692702                     47               47.000000               0.000000   \n",
              "\n",
              "        ...  min_seg_size_forward  Active Mean  Active Std  Active Max  \\\n",
              "0       ...                    20          0.0         0.0           0   \n",
              "1       ...                    32          0.0         0.0           0   \n",
              "2       ...                    32          0.0         0.0           0   \n",
              "3       ...                    32          0.0         0.0           0   \n",
              "4       ...                    32          0.0         0.0           0   \n",
              "...     ...                   ...          ...         ...         ...   \n",
              "692698  ...                    20          0.0         0.0           0   \n",
              "692699  ...                    20          0.0         0.0           0   \n",
              "692700  ...                    32          0.0         0.0           0   \n",
              "692701  ...                    20          0.0         0.0           0   \n",
              "692702  ...                    20          0.0         0.0           0   \n",
              "\n",
              "        Active Min  Idle Mean  Idle Std  Idle Max  Idle Min   Label  \n",
              "0                0        0.0       0.0         0         0  BENIGN  \n",
              "1                0        0.0       0.0         0         0  BENIGN  \n",
              "2                0        0.0       0.0         0         0  BENIGN  \n",
              "3                0        0.0       0.0         0         0  BENIGN  \n",
              "4                0        0.0       0.0         0         0  BENIGN  \n",
              "...            ...        ...       ...       ...       ...     ...  \n",
              "692698           0        0.0       0.0         0         0  BENIGN  \n",
              "692699           0        0.0       0.0         0         0  BENIGN  \n",
              "692700           0        0.0       0.0         0         0  BENIGN  \n",
              "692701           0        0.0       0.0         0         0  BENIGN  \n",
              "692702           0        0.0       0.0         0         0  BENIGN  \n",
              "\n",
              "[692703 rows x 79 columns]"
            ],
            "text/html": [
              "\n",
              "  <div id=\"df-4597bff0-dc0d-4cd4-a23b-03ac0f6a0be0\">\n",
              "    <div class=\"colab-df-container\">\n",
              "      <div>\n",
              "<style scoped>\n",
              "    .dataframe tbody tr th:only-of-type {\n",
              "        vertical-align: middle;\n",
              "    }\n",
              "\n",
              "    .dataframe tbody tr th {\n",
              "        vertical-align: top;\n",
              "    }\n",
              "\n",
              "    .dataframe thead th {\n",
              "        text-align: right;\n",
              "    }\n",
              "</style>\n",
              "<table border=\"1\" class=\"dataframe\">\n",
              "  <thead>\n",
              "    <tr style=\"text-align: right;\">\n",
              "      <th></th>\n",
              "      <th>Destination Port</th>\n",
              "      <th>Flow Duration</th>\n",
              "      <th>Total Fwd Packets</th>\n",
              "      <th>Total Backward Packets</th>\n",
              "      <th>Total Length of Fwd Packets</th>\n",
              "      <th>Total Length of Bwd Packets</th>\n",
              "      <th>Fwd Packet Length Max</th>\n",
              "      <th>Fwd Packet Length Min</th>\n",
              "      <th>Fwd Packet Length Mean</th>\n",
              "      <th>Fwd Packet Length Std</th>\n",
              "      <th>...</th>\n",
              "      <th>min_seg_size_forward</th>\n",
              "      <th>Active Mean</th>\n",
              "      <th>Active Std</th>\n",
              "      <th>Active Max</th>\n",
              "      <th>Active Min</th>\n",
              "      <th>Idle Mean</th>\n",
              "      <th>Idle Std</th>\n",
              "      <th>Idle Max</th>\n",
              "      <th>Idle Min</th>\n",
              "      <th>Label</th>\n",
              "    </tr>\n",
              "  </thead>\n",
              "  <tbody>\n",
              "    <tr>\n",
              "      <th>0</th>\n",
              "      <td>80</td>\n",
              "      <td>38308</td>\n",
              "      <td>1</td>\n",
              "      <td>1</td>\n",
              "      <td>6</td>\n",
              "      <td>6</td>\n",
              "      <td>6</td>\n",
              "      <td>6</td>\n",
              "      <td>6.000000</td>\n",
              "      <td>0.000000</td>\n",
              "      <td>...</td>\n",
              "      <td>20</td>\n",
              "      <td>0.0</td>\n",
              "      <td>0.0</td>\n",
              "      <td>0</td>\n",
              "      <td>0</td>\n",
              "      <td>0.0</td>\n",
              "      <td>0.0</td>\n",
              "      <td>0</td>\n",
              "      <td>0</td>\n",
              "      <td>BENIGN</td>\n",
              "    </tr>\n",
              "    <tr>\n",
              "      <th>1</th>\n",
              "      <td>389</td>\n",
              "      <td>479</td>\n",
              "      <td>11</td>\n",
              "      <td>5</td>\n",
              "      <td>172</td>\n",
              "      <td>326</td>\n",
              "      <td>79</td>\n",
              "      <td>0</td>\n",
              "      <td>15.636364</td>\n",
              "      <td>31.449238</td>\n",
              "      <td>...</td>\n",
              "      <td>32</td>\n",
              "      <td>0.0</td>\n",
              "      <td>0.0</td>\n",
              "      <td>0</td>\n",
              "      <td>0</td>\n",
              "      <td>0.0</td>\n",
              "      <td>0.0</td>\n",
              "      <td>0</td>\n",
              "      <td>0</td>\n",
              "      <td>BENIGN</td>\n",
              "    </tr>\n",
              "    <tr>\n",
              "      <th>2</th>\n",
              "      <td>88</td>\n",
              "      <td>1095</td>\n",
              "      <td>10</td>\n",
              "      <td>6</td>\n",
              "      <td>3150</td>\n",
              "      <td>3150</td>\n",
              "      <td>1575</td>\n",
              "      <td>0</td>\n",
              "      <td>315.000000</td>\n",
              "      <td>632.561635</td>\n",
              "      <td>...</td>\n",
              "      <td>32</td>\n",
              "      <td>0.0</td>\n",
              "      <td>0.0</td>\n",
              "      <td>0</td>\n",
              "      <td>0</td>\n",
              "      <td>0.0</td>\n",
              "      <td>0.0</td>\n",
              "      <td>0</td>\n",
              "      <td>0</td>\n",
              "      <td>BENIGN</td>\n",
              "    </tr>\n",
              "    <tr>\n",
              "      <th>3</th>\n",
              "      <td>389</td>\n",
              "      <td>15206</td>\n",
              "      <td>17</td>\n",
              "      <td>12</td>\n",
              "      <td>3452</td>\n",
              "      <td>6660</td>\n",
              "      <td>1313</td>\n",
              "      <td>0</td>\n",
              "      <td>203.058823</td>\n",
              "      <td>425.778474</td>\n",
              "      <td>...</td>\n",
              "      <td>32</td>\n",
              "      <td>0.0</td>\n",
              "      <td>0.0</td>\n",
              "      <td>0</td>\n",
              "      <td>0</td>\n",
              "      <td>0.0</td>\n",
              "      <td>0.0</td>\n",
              "      <td>0</td>\n",
              "      <td>0</td>\n",
              "      <td>BENIGN</td>\n",
              "    </tr>\n",
              "    <tr>\n",
              "      <th>4</th>\n",
              "      <td>88</td>\n",
              "      <td>1092</td>\n",
              "      <td>9</td>\n",
              "      <td>6</td>\n",
              "      <td>3150</td>\n",
              "      <td>3152</td>\n",
              "      <td>1575</td>\n",
              "      <td>0</td>\n",
              "      <td>350.000000</td>\n",
              "      <td>694.509719</td>\n",
              "      <td>...</td>\n",
              "      <td>32</td>\n",
              "      <td>0.0</td>\n",
              "      <td>0.0</td>\n",
              "      <td>0</td>\n",
              "      <td>0</td>\n",
              "      <td>0.0</td>\n",
              "      <td>0.0</td>\n",
              "      <td>0</td>\n",
              "      <td>0</td>\n",
              "      <td>BENIGN</td>\n",
              "    </tr>\n",
              "    <tr>\n",
              "      <th>...</th>\n",
              "      <td>...</td>\n",
              "      <td>...</td>\n",
              "      <td>...</td>\n",
              "      <td>...</td>\n",
              "      <td>...</td>\n",
              "      <td>...</td>\n",
              "      <td>...</td>\n",
              "      <td>...</td>\n",
              "      <td>...</td>\n",
              "      <td>...</td>\n",
              "      <td>...</td>\n",
              "      <td>...</td>\n",
              "      <td>...</td>\n",
              "      <td>...</td>\n",
              "      <td>...</td>\n",
              "      <td>...</td>\n",
              "      <td>...</td>\n",
              "      <td>...</td>\n",
              "      <td>...</td>\n",
              "      <td>...</td>\n",
              "      <td>...</td>\n",
              "    </tr>\n",
              "    <tr>\n",
              "      <th>692698</th>\n",
              "      <td>53</td>\n",
              "      <td>32215</td>\n",
              "      <td>4</td>\n",
              "      <td>2</td>\n",
              "      <td>112</td>\n",
              "      <td>152</td>\n",
              "      <td>28</td>\n",
              "      <td>28</td>\n",
              "      <td>28.000000</td>\n",
              "      <td>0.000000</td>\n",
              "      <td>...</td>\n",
              "      <td>20</td>\n",
              "      <td>0.0</td>\n",
              "      <td>0.0</td>\n",
              "      <td>0</td>\n",
              "      <td>0</td>\n",
              "      <td>0.0</td>\n",
              "      <td>0.0</td>\n",
              "      <td>0</td>\n",
              "      <td>0</td>\n",
              "      <td>BENIGN</td>\n",
              "    </tr>\n",
              "    <tr>\n",
              "      <th>692699</th>\n",
              "      <td>53</td>\n",
              "      <td>324</td>\n",
              "      <td>2</td>\n",
              "      <td>2</td>\n",
              "      <td>84</td>\n",
              "      <td>362</td>\n",
              "      <td>42</td>\n",
              "      <td>42</td>\n",
              "      <td>42.000000</td>\n",
              "      <td>0.000000</td>\n",
              "      <td>...</td>\n",
              "      <td>20</td>\n",
              "      <td>0.0</td>\n",
              "      <td>0.0</td>\n",
              "      <td>0</td>\n",
              "      <td>0</td>\n",
              "      <td>0.0</td>\n",
              "      <td>0.0</td>\n",
              "      <td>0</td>\n",
              "      <td>0</td>\n",
              "      <td>BENIGN</td>\n",
              "    </tr>\n",
              "    <tr>\n",
              "      <th>692700</th>\n",
              "      <td>58030</td>\n",
              "      <td>82</td>\n",
              "      <td>2</td>\n",
              "      <td>1</td>\n",
              "      <td>31</td>\n",
              "      <td>6</td>\n",
              "      <td>31</td>\n",
              "      <td>0</td>\n",
              "      <td>15.500000</td>\n",
              "      <td>21.920310</td>\n",
              "      <td>...</td>\n",
              "      <td>32</td>\n",
              "      <td>0.0</td>\n",
              "      <td>0.0</td>\n",
              "      <td>0</td>\n",
              "      <td>0</td>\n",
              "      <td>0.0</td>\n",
              "      <td>0.0</td>\n",
              "      <td>0</td>\n",
              "      <td>0</td>\n",
              "      <td>BENIGN</td>\n",
              "    </tr>\n",
              "    <tr>\n",
              "      <th>692701</th>\n",
              "      <td>53</td>\n",
              "      <td>1048635</td>\n",
              "      <td>6</td>\n",
              "      <td>2</td>\n",
              "      <td>192</td>\n",
              "      <td>256</td>\n",
              "      <td>32</td>\n",
              "      <td>32</td>\n",
              "      <td>32.000000</td>\n",
              "      <td>0.000000</td>\n",
              "      <td>...</td>\n",
              "      <td>20</td>\n",
              "      <td>0.0</td>\n",
              "      <td>0.0</td>\n",
              "      <td>0</td>\n",
              "      <td>0</td>\n",
              "      <td>0.0</td>\n",
              "      <td>0.0</td>\n",
              "      <td>0</td>\n",
              "      <td>0</td>\n",
              "      <td>BENIGN</td>\n",
              "    </tr>\n",
              "    <tr>\n",
              "      <th>692702</th>\n",
              "      <td>53</td>\n",
              "      <td>94939</td>\n",
              "      <td>4</td>\n",
              "      <td>2</td>\n",
              "      <td>188</td>\n",
              "      <td>226</td>\n",
              "      <td>47</td>\n",
              "      <td>47</td>\n",
              "      <td>47.000000</td>\n",
              "      <td>0.000000</td>\n",
              "      <td>...</td>\n",
              "      <td>20</td>\n",
              "      <td>0.0</td>\n",
              "      <td>0.0</td>\n",
              "      <td>0</td>\n",
              "      <td>0</td>\n",
              "      <td>0.0</td>\n",
              "      <td>0.0</td>\n",
              "      <td>0</td>\n",
              "      <td>0</td>\n",
              "      <td>BENIGN</td>\n",
              "    </tr>\n",
              "  </tbody>\n",
              "</table>\n",
              "<p>692703 rows × 79 columns</p>\n",
              "</div>\n",
              "      <button class=\"colab-df-convert\" onclick=\"convertToInteractive('df-4597bff0-dc0d-4cd4-a23b-03ac0f6a0be0')\"\n",
              "              title=\"Convert this dataframe to an interactive table.\"\n",
              "              style=\"display:none;\">\n",
              "        \n",
              "  <svg xmlns=\"http://www.w3.org/2000/svg\" height=\"24px\"viewBox=\"0 0 24 24\"\n",
              "       width=\"24px\">\n",
              "    <path d=\"M0 0h24v24H0V0z\" fill=\"none\"/>\n",
              "    <path d=\"M18.56 5.44l.94 2.06.94-2.06 2.06-.94-2.06-.94-.94-2.06-.94 2.06-2.06.94zm-11 1L8.5 8.5l.94-2.06 2.06-.94-2.06-.94L8.5 2.5l-.94 2.06-2.06.94zm10 10l.94 2.06.94-2.06 2.06-.94-2.06-.94-.94-2.06-.94 2.06-2.06.94z\"/><path d=\"M17.41 7.96l-1.37-1.37c-.4-.4-.92-.59-1.43-.59-.52 0-1.04.2-1.43.59L10.3 9.45l-7.72 7.72c-.78.78-.78 2.05 0 2.83L4 21.41c.39.39.9.59 1.41.59.51 0 1.02-.2 1.41-.59l7.78-7.78 2.81-2.81c.8-.78.8-2.07 0-2.86zM5.41 20L4 18.59l7.72-7.72 1.47 1.35L5.41 20z\"/>\n",
              "  </svg>\n",
              "      </button>\n",
              "      \n",
              "  <style>\n",
              "    .colab-df-container {\n",
              "      display:flex;\n",
              "      flex-wrap:wrap;\n",
              "      gap: 12px;\n",
              "    }\n",
              "\n",
              "    .colab-df-convert {\n",
              "      background-color: #E8F0FE;\n",
              "      border: none;\n",
              "      border-radius: 50%;\n",
              "      cursor: pointer;\n",
              "      display: none;\n",
              "      fill: #1967D2;\n",
              "      height: 32px;\n",
              "      padding: 0 0 0 0;\n",
              "      width: 32px;\n",
              "    }\n",
              "\n",
              "    .colab-df-convert:hover {\n",
              "      background-color: #E2EBFA;\n",
              "      box-shadow: 0px 1px 2px rgba(60, 64, 67, 0.3), 0px 1px 3px 1px rgba(60, 64, 67, 0.15);\n",
              "      fill: #174EA6;\n",
              "    }\n",
              "\n",
              "    [theme=dark] .colab-df-convert {\n",
              "      background-color: #3B4455;\n",
              "      fill: #D2E3FC;\n",
              "    }\n",
              "\n",
              "    [theme=dark] .colab-df-convert:hover {\n",
              "      background-color: #434B5C;\n",
              "      box-shadow: 0px 1px 3px 1px rgba(0, 0, 0, 0.15);\n",
              "      filter: drop-shadow(0px 1px 2px rgba(0, 0, 0, 0.3));\n",
              "      fill: #FFFFFF;\n",
              "    }\n",
              "  </style>\n",
              "\n",
              "      <script>\n",
              "        const buttonEl =\n",
              "          document.querySelector('#df-4597bff0-dc0d-4cd4-a23b-03ac0f6a0be0 button.colab-df-convert');\n",
              "        buttonEl.style.display =\n",
              "          google.colab.kernel.accessAllowed ? 'block' : 'none';\n",
              "\n",
              "        async function convertToInteractive(key) {\n",
              "          const element = document.querySelector('#df-4597bff0-dc0d-4cd4-a23b-03ac0f6a0be0');\n",
              "          const dataTable =\n",
              "            await google.colab.kernel.invokeFunction('convertToInteractive',\n",
              "                                                     [key], {});\n",
              "          if (!dataTable) return;\n",
              "\n",
              "          const docLinkHtml = 'Like what you see? Visit the ' +\n",
              "            '<a target=\"_blank\" href=https://colab.research.google.com/notebooks/data_table.ipynb>data table notebook</a>'\n",
              "            + ' to learn more about interactive tables.';\n",
              "          element.innerHTML = '';\n",
              "          dataTable['output_type'] = 'display_data';\n",
              "          await google.colab.output.renderOutput(dataTable, element);\n",
              "          const docLink = document.createElement('div');\n",
              "          docLink.innerHTML = docLinkHtml;\n",
              "          element.appendChild(docLink);\n",
              "        }\n",
              "      </script>\n",
              "    </div>\n",
              "  </div>\n",
              "  "
            ]
          },
          "metadata": {},
          "execution_count": 143
        }
      ],
      "source": [
        "df"
      ]
    },
    {
      "cell_type": "code",
      "execution_count": null,
      "metadata": {
        "colab": {
          "base_uri": "https://localhost:8080/"
        },
        "id": "0Zv0GoYlrgcn",
        "outputId": "20414433-3c5f-46df-b4e2-65f8201dc9e4"
      },
      "outputs": [
        {
          "output_type": "execute_result",
          "data": {
            "text/plain": [
              "Index(['Destination Port', 'Flow Duration', 'Total Fwd Packets',\n",
              "       'Total Backward Packets', 'Total Length of Fwd Packets',\n",
              "       'Total Length of Bwd Packets', 'Fwd Packet Length Max',\n",
              "       'Fwd Packet Length Min', 'Fwd Packet Length Mean',\n",
              "       'Fwd Packet Length Std', 'Bwd Packet Length Max',\n",
              "       'Bwd Packet Length Min', 'Bwd Packet Length Mean',\n",
              "       'Bwd Packet Length Std', 'Flow Bytes/s', 'Flow Packets/s',\n",
              "       'Flow IAT Mean', 'Flow IAT Std', 'Flow IAT Max', 'Flow IAT Min',\n",
              "       'Fwd IAT Total', 'Fwd IAT Mean', 'Fwd IAT Std', 'Fwd IAT Max',\n",
              "       'Fwd IAT Min', 'Bwd IAT Total', 'Bwd IAT Mean', 'Bwd IAT Std',\n",
              "       'Bwd IAT Max', 'Bwd IAT Min', 'Fwd PSH Flags', 'Bwd PSH Flags',\n",
              "       'Fwd URG Flags', 'Bwd URG Flags', 'Fwd Header Length',\n",
              "       'Bwd Header Length', 'Fwd Packets/s', 'Bwd Packets/s',\n",
              "       'Min Packet Length', 'Max Packet Length', 'Packet Length Mean',\n",
              "       'Packet Length Std', 'Packet Length Variance', 'FIN Flag Count',\n",
              "       'SYN Flag Count', 'RST Flag Count', 'PSH Flag Count', 'ACK Flag Count',\n",
              "       'URG Flag Count', 'CWE Flag Count', 'ECE Flag Count', 'Down/Up Ratio',\n",
              "       'Average Packet Size', 'Avg Fwd Segment Size', 'Avg Bwd Segment Size',\n",
              "       'Fwd Header Length.1', 'Fwd Avg Bytes/Bulk', 'Fwd Avg Packets/Bulk',\n",
              "       'Fwd Avg Bulk Rate', 'Bwd Avg Bytes/Bulk', 'Bwd Avg Packets/Bulk',\n",
              "       'Bwd Avg Bulk Rate', 'Subflow Fwd Packets', 'Subflow Fwd Bytes',\n",
              "       'Subflow Bwd Packets', 'Subflow Bwd Bytes', 'Init_Win_bytes_forward',\n",
              "       'Init_Win_bytes_backward', 'act_data_pkt_fwd', 'min_seg_size_forward',\n",
              "       'Active Mean', 'Active Std', 'Active Max', 'Active Min', 'Idle Mean',\n",
              "       'Idle Std', 'Idle Max', 'Idle Min', 'Label'],\n",
              "      dtype='object')"
            ]
          },
          "metadata": {},
          "execution_count": 144
        }
      ],
      "source": [
        "df.columns"
      ]
    },
    {
      "cell_type": "code",
      "execution_count": null,
      "metadata": {
        "colab": {
          "base_uri": "https://localhost:8080/"
        },
        "id": "TQz8vYYsIGb_",
        "outputId": "4e0f6246-db7a-4f6b-8355-ccc23aa96efb"
      },
      "outputs": [
        {
          "output_type": "execute_result",
          "data": {
            "text/plain": [
              "BENIGN              440031\n",
              "DoS Hulk            231073\n",
              "DoS GoldenEye        10293\n",
              "DoS slowloris         5796\n",
              "DoS Slowhttptest      5499\n",
              "Heartbleed              11\n",
              "Name: Label, dtype: int64"
            ]
          },
          "metadata": {},
          "execution_count": 145
        }
      ],
      "source": [
        "df['Label'].value_counts()"
      ]
    },
    {
      "cell_type": "code",
      "execution_count": null,
      "metadata": {
        "id": "BH5kdWe9rjpk"
      },
      "outputs": [],
      "source": [
        "# Z-score normalization\n",
        "features = df.dtypes[df.dtypes != 'object'].index\n",
        "df[features] = df[features].apply(\n",
        "    lambda x: (x - x.mean()) / (x.std()))\n",
        "# Fill empty values by 0\n",
        "df = df.fillna(0)"
      ]
    },
    {
      "cell_type": "code",
      "execution_count": null,
      "metadata": {
        "id": "NW7bgmESrp_W"
      },
      "outputs": [],
      "source": [
        "labelencoder = LabelEncoder()\n",
        "df.iloc[:, -1] = labelencoder.fit_transform(df.iloc[:, -1])"
      ]
    },
    {
      "cell_type": "code",
      "execution_count": null,
      "metadata": {
        "colab": {
          "base_uri": "https://localhost:8080/"
        },
        "id": "j81nQDHorq2L",
        "outputId": "adb92f28-3cda-4a81-a844-56f3c1ddd241"
      },
      "outputs": [
        {
          "output_type": "execute_result",
          "data": {
            "text/plain": [
              "0    440031\n",
              "2    231073\n",
              "1     10293\n",
              "4      5796\n",
              "3      5499\n",
              "5        11\n",
              "Name: Label, dtype: int64"
            ]
          },
          "metadata": {},
          "execution_count": 148
        }
      ],
      "source": [
        "df['Label'].value_counts()"
      ]
    },
    {
      "cell_type": "code",
      "execution_count": null,
      "metadata": {
        "id": "NZTTD3YIrt1-"
      },
      "outputs": [],
      "source": [
        "# retain the minority class instances and sample the majority class instances\n",
        "df_minor = df[(df['Label']==5)|(df['Label']==4)|(df['Label']==3)]\n",
        "df_major = df.drop(df_minor.index)"
      ]
    },
    {
      "cell_type": "code",
      "execution_count": null,
      "metadata": {
        "id": "Txk6ieRpsA90"
      },
      "outputs": [],
      "source": [
        "X = df_major.drop(['Label'],axis=1) \n",
        "y = df_major.iloc[:, -1].values.reshape(-1,1)\n",
        "y=np.ravel(y)"
      ]
    },
    {
      "cell_type": "code",
      "execution_count": null,
      "metadata": {
        "id": "sBQjBKq6sDRK"
      },
      "outputs": [],
      "source": [
        "from sklearn.cluster import MiniBatchKMeans\n",
        "kmeans = MiniBatchKMeans(n_clusters=1000, random_state=0).fit(X)"
      ]
    },
    {
      "cell_type": "code",
      "execution_count": null,
      "metadata": {
        "id": "j4kUjthlsEB6"
      },
      "outputs": [],
      "source": [
        "klabel=kmeans.labels_\n",
        "df_major['klabel']=klabel"
      ]
    },
    {
      "cell_type": "code",
      "execution_count": null,
      "metadata": {
        "colab": {
          "base_uri": "https://localhost:8080/"
        },
        "id": "XIIlbEWqsG0Y",
        "outputId": "c06cec67-56bd-4551-82ed-726ab887ddd4"
      },
      "outputs": [
        {
          "output_type": "execute_result",
          "data": {
            "text/plain": [
              "11     9376\n",
              "703    6933\n",
              "298    6613\n",
              "252    5889\n",
              "443    4347\n",
              "       ... \n",
              "710      23\n",
              "495      19\n",
              "686      16\n",
              "481      15\n",
              "567       1\n",
              "Name: klabel, Length: 990, dtype: int64"
            ]
          },
          "metadata": {},
          "execution_count": 153
        }
      ],
      "source": [
        "df_major['klabel'].value_counts()"
      ]
    },
    {
      "cell_type": "code",
      "execution_count": null,
      "metadata": {
        "id": "ubP3QHxlsKc-"
      },
      "outputs": [],
      "source": [
        "cols = list(df_major)\n",
        "cols.insert(78, cols.pop(cols.index('Label')))\n",
        "df_major = df_major.loc[:, cols]"
      ]
    },
    {
      "cell_type": "code",
      "execution_count": null,
      "metadata": {
        "colab": {
          "base_uri": "https://localhost:8080/",
          "height": 539
        },
        "id": "a6u9BwbIsNwO",
        "outputId": "8e1d0321-cb6e-4388-c899-1afb990f559b"
      },
      "outputs": [
        {
          "output_type": "execute_result",
          "data": {
            "text/plain": [
              "        Destination Port  Flow Duration  Total Fwd Packets  \\\n",
              "0              -0.356503      -0.653857          -0.011451   \n",
              "1              -0.336856      -0.654742           0.001932   \n",
              "2              -0.355994      -0.654727           0.000594   \n",
              "3              -0.336856      -0.654397           0.009962   \n",
              "4              -0.355994      -0.654727          -0.000744   \n",
              "...                  ...            ...                ...   \n",
              "692698         -0.358219      -0.653999          -0.007436   \n",
              "692699         -0.358219      -0.654745          -0.010113   \n",
              "692700          3.328144      -0.654751          -0.010113   \n",
              "692701         -0.358219      -0.630233          -0.004759   \n",
              "692702         -0.358219      -0.652533          -0.007436   \n",
              "\n",
              "        Total Backward Packets  Total Length of Fwd Packets  \\\n",
              "0                    -0.009362                    -0.089086   \n",
              "1                    -0.005298                    -0.062153   \n",
              "2                    -0.004282                     0.421001   \n",
              "3                     0.001815                     0.469998   \n",
              "4                    -0.004282                     0.421001   \n",
              "...                        ...                          ...   \n",
              "692698               -0.008346                    -0.071888   \n",
              "692699               -0.008346                    -0.076431   \n",
              "692700               -0.009362                    -0.085029   \n",
              "692701               -0.008346                    -0.058909   \n",
              "692702               -0.008346                    -0.059558   \n",
              "\n",
              "        Total Length of Bwd Packets  Fwd Packet Length Max  \\\n",
              "0                         -0.007581              -0.376966   \n",
              "1                         -0.007438              -0.256055   \n",
              "2                         -0.006178               2.221784   \n",
              "3                         -0.004612               1.787831   \n",
              "4                         -0.006177               2.221784   \n",
              "...                             ...                    ...   \n",
              "692698                    -0.007516              -0.340527   \n",
              "692699                    -0.007422              -0.317339   \n",
              "692700                    -0.007581              -0.335558   \n",
              "692701                    -0.007469              -0.333902   \n",
              "692702                    -0.007483              -0.309057   \n",
              "\n",
              "        Fwd Packet Length Min  Fwd Packet Length Mean  Fwd Packet Length Std  \\\n",
              "0                   -0.176667               -0.346068              -0.366591   \n",
              "1                   -0.294156               -0.284940              -0.227513   \n",
              "2                   -0.294156                1.614047               2.430793   \n",
              "3                   -0.294156                0.903958               1.516334   \n",
              "4                   -0.294156                1.836067               2.704747   \n",
              "...                       ...                     ...                    ...   \n",
              "692698               0.254124               -0.206513              -0.366591   \n",
              "692699               0.528264               -0.117705              -0.366591   \n",
              "692700              -0.294156               -0.285805              -0.269653   \n",
              "692701               0.332450               -0.181139              -0.366591   \n",
              "692702               0.626171               -0.085988              -0.366591   \n",
              "\n",
              "        ...  Active Mean  Active Std  Active Max  Active Min  Idle Mean  \\\n",
              "0       ...    -0.131646   -0.100396    -0.14867   -0.104366  -0.579979   \n",
              "1       ...    -0.131646   -0.100396    -0.14867   -0.104366  -0.579979   \n",
              "2       ...    -0.131646   -0.100396    -0.14867   -0.104366  -0.579979   \n",
              "3       ...    -0.131646   -0.100396    -0.14867   -0.104366  -0.579979   \n",
              "4       ...    -0.131646   -0.100396    -0.14867   -0.104366  -0.579979   \n",
              "...     ...          ...         ...         ...         ...        ...   \n",
              "692698  ...    -0.131646   -0.100396    -0.14867   -0.104366  -0.579979   \n",
              "692699  ...    -0.131646   -0.100396    -0.14867   -0.104366  -0.579979   \n",
              "692700  ...    -0.131646   -0.100396    -0.14867   -0.104366  -0.579979   \n",
              "692701  ...    -0.131646   -0.100396    -0.14867   -0.104366  -0.579979   \n",
              "692702  ...    -0.131646   -0.100396    -0.14867   -0.104366  -0.579979   \n",
              "\n",
              "        Idle Std  Idle Max  Idle Min  Label  klabel  \n",
              "0      -0.105686  -0.58524  -0.57078      0     657  \n",
              "1      -0.105686  -0.58524  -0.57078      0      14  \n",
              "2      -0.105686  -0.58524  -0.57078      0     651  \n",
              "3      -0.105686  -0.58524  -0.57078      0     236  \n",
              "4      -0.105686  -0.58524  -0.57078      0     651  \n",
              "...          ...       ...       ...    ...     ...  \n",
              "692698 -0.105686  -0.58524  -0.57078      0     371  \n",
              "692699 -0.105686  -0.58524  -0.57078      0     691  \n",
              "692700 -0.105686  -0.58524  -0.57078      0     147  \n",
              "692701 -0.105686  -0.58524  -0.57078      0     393  \n",
              "692702 -0.105686  -0.58524  -0.57078      0     737  \n",
              "\n",
              "[681397 rows x 80 columns]"
            ],
            "text/html": [
              "\n",
              "  <div id=\"df-25d9dd68-9e73-433c-b141-78452ccb40b7\">\n",
              "    <div class=\"colab-df-container\">\n",
              "      <div>\n",
              "<style scoped>\n",
              "    .dataframe tbody tr th:only-of-type {\n",
              "        vertical-align: middle;\n",
              "    }\n",
              "\n",
              "    .dataframe tbody tr th {\n",
              "        vertical-align: top;\n",
              "    }\n",
              "\n",
              "    .dataframe thead th {\n",
              "        text-align: right;\n",
              "    }\n",
              "</style>\n",
              "<table border=\"1\" class=\"dataframe\">\n",
              "  <thead>\n",
              "    <tr style=\"text-align: right;\">\n",
              "      <th></th>\n",
              "      <th>Destination Port</th>\n",
              "      <th>Flow Duration</th>\n",
              "      <th>Total Fwd Packets</th>\n",
              "      <th>Total Backward Packets</th>\n",
              "      <th>Total Length of Fwd Packets</th>\n",
              "      <th>Total Length of Bwd Packets</th>\n",
              "      <th>Fwd Packet Length Max</th>\n",
              "      <th>Fwd Packet Length Min</th>\n",
              "      <th>Fwd Packet Length Mean</th>\n",
              "      <th>Fwd Packet Length Std</th>\n",
              "      <th>...</th>\n",
              "      <th>Active Mean</th>\n",
              "      <th>Active Std</th>\n",
              "      <th>Active Max</th>\n",
              "      <th>Active Min</th>\n",
              "      <th>Idle Mean</th>\n",
              "      <th>Idle Std</th>\n",
              "      <th>Idle Max</th>\n",
              "      <th>Idle Min</th>\n",
              "      <th>Label</th>\n",
              "      <th>klabel</th>\n",
              "    </tr>\n",
              "  </thead>\n",
              "  <tbody>\n",
              "    <tr>\n",
              "      <th>0</th>\n",
              "      <td>-0.356503</td>\n",
              "      <td>-0.653857</td>\n",
              "      <td>-0.011451</td>\n",
              "      <td>-0.009362</td>\n",
              "      <td>-0.089086</td>\n",
              "      <td>-0.007581</td>\n",
              "      <td>-0.376966</td>\n",
              "      <td>-0.176667</td>\n",
              "      <td>-0.346068</td>\n",
              "      <td>-0.366591</td>\n",
              "      <td>...</td>\n",
              "      <td>-0.131646</td>\n",
              "      <td>-0.100396</td>\n",
              "      <td>-0.14867</td>\n",
              "      <td>-0.104366</td>\n",
              "      <td>-0.579979</td>\n",
              "      <td>-0.105686</td>\n",
              "      <td>-0.58524</td>\n",
              "      <td>-0.57078</td>\n",
              "      <td>0</td>\n",
              "      <td>657</td>\n",
              "    </tr>\n",
              "    <tr>\n",
              "      <th>1</th>\n",
              "      <td>-0.336856</td>\n",
              "      <td>-0.654742</td>\n",
              "      <td>0.001932</td>\n",
              "      <td>-0.005298</td>\n",
              "      <td>-0.062153</td>\n",
              "      <td>-0.007438</td>\n",
              "      <td>-0.256055</td>\n",
              "      <td>-0.294156</td>\n",
              "      <td>-0.284940</td>\n",
              "      <td>-0.227513</td>\n",
              "      <td>...</td>\n",
              "      <td>-0.131646</td>\n",
              "      <td>-0.100396</td>\n",
              "      <td>-0.14867</td>\n",
              "      <td>-0.104366</td>\n",
              "      <td>-0.579979</td>\n",
              "      <td>-0.105686</td>\n",
              "      <td>-0.58524</td>\n",
              "      <td>-0.57078</td>\n",
              "      <td>0</td>\n",
              "      <td>14</td>\n",
              "    </tr>\n",
              "    <tr>\n",
              "      <th>2</th>\n",
              "      <td>-0.355994</td>\n",
              "      <td>-0.654727</td>\n",
              "      <td>0.000594</td>\n",
              "      <td>-0.004282</td>\n",
              "      <td>0.421001</td>\n",
              "      <td>-0.006178</td>\n",
              "      <td>2.221784</td>\n",
              "      <td>-0.294156</td>\n",
              "      <td>1.614047</td>\n",
              "      <td>2.430793</td>\n",
              "      <td>...</td>\n",
              "      <td>-0.131646</td>\n",
              "      <td>-0.100396</td>\n",
              "      <td>-0.14867</td>\n",
              "      <td>-0.104366</td>\n",
              "      <td>-0.579979</td>\n",
              "      <td>-0.105686</td>\n",
              "      <td>-0.58524</td>\n",
              "      <td>-0.57078</td>\n",
              "      <td>0</td>\n",
              "      <td>651</td>\n",
              "    </tr>\n",
              "    <tr>\n",
              "      <th>3</th>\n",
              "      <td>-0.336856</td>\n",
              "      <td>-0.654397</td>\n",
              "      <td>0.009962</td>\n",
              "      <td>0.001815</td>\n",
              "      <td>0.469998</td>\n",
              "      <td>-0.004612</td>\n",
              "      <td>1.787831</td>\n",
              "      <td>-0.294156</td>\n",
              "      <td>0.903958</td>\n",
              "      <td>1.516334</td>\n",
              "      <td>...</td>\n",
              "      <td>-0.131646</td>\n",
              "      <td>-0.100396</td>\n",
              "      <td>-0.14867</td>\n",
              "      <td>-0.104366</td>\n",
              "      <td>-0.579979</td>\n",
              "      <td>-0.105686</td>\n",
              "      <td>-0.58524</td>\n",
              "      <td>-0.57078</td>\n",
              "      <td>0</td>\n",
              "      <td>236</td>\n",
              "    </tr>\n",
              "    <tr>\n",
              "      <th>4</th>\n",
              "      <td>-0.355994</td>\n",
              "      <td>-0.654727</td>\n",
              "      <td>-0.000744</td>\n",
              "      <td>-0.004282</td>\n",
              "      <td>0.421001</td>\n",
              "      <td>-0.006177</td>\n",
              "      <td>2.221784</td>\n",
              "      <td>-0.294156</td>\n",
              "      <td>1.836067</td>\n",
              "      <td>2.704747</td>\n",
              "      <td>...</td>\n",
              "      <td>-0.131646</td>\n",
              "      <td>-0.100396</td>\n",
              "      <td>-0.14867</td>\n",
              "      <td>-0.104366</td>\n",
              "      <td>-0.579979</td>\n",
              "      <td>-0.105686</td>\n",
              "      <td>-0.58524</td>\n",
              "      <td>-0.57078</td>\n",
              "      <td>0</td>\n",
              "      <td>651</td>\n",
              "    </tr>\n",
              "    <tr>\n",
              "      <th>...</th>\n",
              "      <td>...</td>\n",
              "      <td>...</td>\n",
              "      <td>...</td>\n",
              "      <td>...</td>\n",
              "      <td>...</td>\n",
              "      <td>...</td>\n",
              "      <td>...</td>\n",
              "      <td>...</td>\n",
              "      <td>...</td>\n",
              "      <td>...</td>\n",
              "      <td>...</td>\n",
              "      <td>...</td>\n",
              "      <td>...</td>\n",
              "      <td>...</td>\n",
              "      <td>...</td>\n",
              "      <td>...</td>\n",
              "      <td>...</td>\n",
              "      <td>...</td>\n",
              "      <td>...</td>\n",
              "      <td>...</td>\n",
              "      <td>...</td>\n",
              "    </tr>\n",
              "    <tr>\n",
              "      <th>692698</th>\n",
              "      <td>-0.358219</td>\n",
              "      <td>-0.653999</td>\n",
              "      <td>-0.007436</td>\n",
              "      <td>-0.008346</td>\n",
              "      <td>-0.071888</td>\n",
              "      <td>-0.007516</td>\n",
              "      <td>-0.340527</td>\n",
              "      <td>0.254124</td>\n",
              "      <td>-0.206513</td>\n",
              "      <td>-0.366591</td>\n",
              "      <td>...</td>\n",
              "      <td>-0.131646</td>\n",
              "      <td>-0.100396</td>\n",
              "      <td>-0.14867</td>\n",
              "      <td>-0.104366</td>\n",
              "      <td>-0.579979</td>\n",
              "      <td>-0.105686</td>\n",
              "      <td>-0.58524</td>\n",
              "      <td>-0.57078</td>\n",
              "      <td>0</td>\n",
              "      <td>371</td>\n",
              "    </tr>\n",
              "    <tr>\n",
              "      <th>692699</th>\n",
              "      <td>-0.358219</td>\n",
              "      <td>-0.654745</td>\n",
              "      <td>-0.010113</td>\n",
              "      <td>-0.008346</td>\n",
              "      <td>-0.076431</td>\n",
              "      <td>-0.007422</td>\n",
              "      <td>-0.317339</td>\n",
              "      <td>0.528264</td>\n",
              "      <td>-0.117705</td>\n",
              "      <td>-0.366591</td>\n",
              "      <td>...</td>\n",
              "      <td>-0.131646</td>\n",
              "      <td>-0.100396</td>\n",
              "      <td>-0.14867</td>\n",
              "      <td>-0.104366</td>\n",
              "      <td>-0.579979</td>\n",
              "      <td>-0.105686</td>\n",
              "      <td>-0.58524</td>\n",
              "      <td>-0.57078</td>\n",
              "      <td>0</td>\n",
              "      <td>691</td>\n",
              "    </tr>\n",
              "    <tr>\n",
              "      <th>692700</th>\n",
              "      <td>3.328144</td>\n",
              "      <td>-0.654751</td>\n",
              "      <td>-0.010113</td>\n",
              "      <td>-0.009362</td>\n",
              "      <td>-0.085029</td>\n",
              "      <td>-0.007581</td>\n",
              "      <td>-0.335558</td>\n",
              "      <td>-0.294156</td>\n",
              "      <td>-0.285805</td>\n",
              "      <td>-0.269653</td>\n",
              "      <td>...</td>\n",
              "      <td>-0.131646</td>\n",
              "      <td>-0.100396</td>\n",
              "      <td>-0.14867</td>\n",
              "      <td>-0.104366</td>\n",
              "      <td>-0.579979</td>\n",
              "      <td>-0.105686</td>\n",
              "      <td>-0.58524</td>\n",
              "      <td>-0.57078</td>\n",
              "      <td>0</td>\n",
              "      <td>147</td>\n",
              "    </tr>\n",
              "    <tr>\n",
              "      <th>692701</th>\n",
              "      <td>-0.358219</td>\n",
              "      <td>-0.630233</td>\n",
              "      <td>-0.004759</td>\n",
              "      <td>-0.008346</td>\n",
              "      <td>-0.058909</td>\n",
              "      <td>-0.007469</td>\n",
              "      <td>-0.333902</td>\n",
              "      <td>0.332450</td>\n",
              "      <td>-0.181139</td>\n",
              "      <td>-0.366591</td>\n",
              "      <td>...</td>\n",
              "      <td>-0.131646</td>\n",
              "      <td>-0.100396</td>\n",
              "      <td>-0.14867</td>\n",
              "      <td>-0.104366</td>\n",
              "      <td>-0.579979</td>\n",
              "      <td>-0.105686</td>\n",
              "      <td>-0.58524</td>\n",
              "      <td>-0.57078</td>\n",
              "      <td>0</td>\n",
              "      <td>393</td>\n",
              "    </tr>\n",
              "    <tr>\n",
              "      <th>692702</th>\n",
              "      <td>-0.358219</td>\n",
              "      <td>-0.652533</td>\n",
              "      <td>-0.007436</td>\n",
              "      <td>-0.008346</td>\n",
              "      <td>-0.059558</td>\n",
              "      <td>-0.007483</td>\n",
              "      <td>-0.309057</td>\n",
              "      <td>0.626171</td>\n",
              "      <td>-0.085988</td>\n",
              "      <td>-0.366591</td>\n",
              "      <td>...</td>\n",
              "      <td>-0.131646</td>\n",
              "      <td>-0.100396</td>\n",
              "      <td>-0.14867</td>\n",
              "      <td>-0.104366</td>\n",
              "      <td>-0.579979</td>\n",
              "      <td>-0.105686</td>\n",
              "      <td>-0.58524</td>\n",
              "      <td>-0.57078</td>\n",
              "      <td>0</td>\n",
              "      <td>737</td>\n",
              "    </tr>\n",
              "  </tbody>\n",
              "</table>\n",
              "<p>681397 rows × 80 columns</p>\n",
              "</div>\n",
              "      <button class=\"colab-df-convert\" onclick=\"convertToInteractive('df-25d9dd68-9e73-433c-b141-78452ccb40b7')\"\n",
              "              title=\"Convert this dataframe to an interactive table.\"\n",
              "              style=\"display:none;\">\n",
              "        \n",
              "  <svg xmlns=\"http://www.w3.org/2000/svg\" height=\"24px\"viewBox=\"0 0 24 24\"\n",
              "       width=\"24px\">\n",
              "    <path d=\"M0 0h24v24H0V0z\" fill=\"none\"/>\n",
              "    <path d=\"M18.56 5.44l.94 2.06.94-2.06 2.06-.94-2.06-.94-.94-2.06-.94 2.06-2.06.94zm-11 1L8.5 8.5l.94-2.06 2.06-.94-2.06-.94L8.5 2.5l-.94 2.06-2.06.94zm10 10l.94 2.06.94-2.06 2.06-.94-2.06-.94-.94-2.06-.94 2.06-2.06.94z\"/><path d=\"M17.41 7.96l-1.37-1.37c-.4-.4-.92-.59-1.43-.59-.52 0-1.04.2-1.43.59L10.3 9.45l-7.72 7.72c-.78.78-.78 2.05 0 2.83L4 21.41c.39.39.9.59 1.41.59.51 0 1.02-.2 1.41-.59l7.78-7.78 2.81-2.81c.8-.78.8-2.07 0-2.86zM5.41 20L4 18.59l7.72-7.72 1.47 1.35L5.41 20z\"/>\n",
              "  </svg>\n",
              "      </button>\n",
              "      \n",
              "  <style>\n",
              "    .colab-df-container {\n",
              "      display:flex;\n",
              "      flex-wrap:wrap;\n",
              "      gap: 12px;\n",
              "    }\n",
              "\n",
              "    .colab-df-convert {\n",
              "      background-color: #E8F0FE;\n",
              "      border: none;\n",
              "      border-radius: 50%;\n",
              "      cursor: pointer;\n",
              "      display: none;\n",
              "      fill: #1967D2;\n",
              "      height: 32px;\n",
              "      padding: 0 0 0 0;\n",
              "      width: 32px;\n",
              "    }\n",
              "\n",
              "    .colab-df-convert:hover {\n",
              "      background-color: #E2EBFA;\n",
              "      box-shadow: 0px 1px 2px rgba(60, 64, 67, 0.3), 0px 1px 3px 1px rgba(60, 64, 67, 0.15);\n",
              "      fill: #174EA6;\n",
              "    }\n",
              "\n",
              "    [theme=dark] .colab-df-convert {\n",
              "      background-color: #3B4455;\n",
              "      fill: #D2E3FC;\n",
              "    }\n",
              "\n",
              "    [theme=dark] .colab-df-convert:hover {\n",
              "      background-color: #434B5C;\n",
              "      box-shadow: 0px 1px 3px 1px rgba(0, 0, 0, 0.15);\n",
              "      filter: drop-shadow(0px 1px 2px rgba(0, 0, 0, 0.3));\n",
              "      fill: #FFFFFF;\n",
              "    }\n",
              "  </style>\n",
              "\n",
              "      <script>\n",
              "        const buttonEl =\n",
              "          document.querySelector('#df-25d9dd68-9e73-433c-b141-78452ccb40b7 button.colab-df-convert');\n",
              "        buttonEl.style.display =\n",
              "          google.colab.kernel.accessAllowed ? 'block' : 'none';\n",
              "\n",
              "        async function convertToInteractive(key) {\n",
              "          const element = document.querySelector('#df-25d9dd68-9e73-433c-b141-78452ccb40b7');\n",
              "          const dataTable =\n",
              "            await google.colab.kernel.invokeFunction('convertToInteractive',\n",
              "                                                     [key], {});\n",
              "          if (!dataTable) return;\n",
              "\n",
              "          const docLinkHtml = 'Like what you see? Visit the ' +\n",
              "            '<a target=\"_blank\" href=https://colab.research.google.com/notebooks/data_table.ipynb>data table notebook</a>'\n",
              "            + ' to learn more about interactive tables.';\n",
              "          element.innerHTML = '';\n",
              "          dataTable['output_type'] = 'display_data';\n",
              "          await google.colab.output.renderOutput(dataTable, element);\n",
              "          const docLink = document.createElement('div');\n",
              "          docLink.innerHTML = docLinkHtml;\n",
              "          element.appendChild(docLink);\n",
              "        }\n",
              "      </script>\n",
              "    </div>\n",
              "  </div>\n",
              "  "
            ]
          },
          "metadata": {},
          "execution_count": 155
        }
      ],
      "source": [
        "df_major"
      ]
    },
    {
      "cell_type": "code",
      "execution_count": null,
      "metadata": {
        "id": "2dKikmKLsQgy"
      },
      "outputs": [],
      "source": [
        "def typicalSampling(group):\n",
        "    name = group.name\n",
        "    frac = 0.008\n",
        "    return group.sample(frac=frac)\n",
        "\n",
        "result = df_major.groupby(\n",
        "    'klabel', group_keys=False\n",
        ").apply(typicalSampling)"
      ]
    },
    {
      "cell_type": "code",
      "execution_count": null,
      "metadata": {
        "id": "wrk47Ku6sTwo"
      },
      "outputs": [],
      "source": [
        "# result['Label'].value_counts()"
      ]
    },
    {
      "cell_type": "code",
      "execution_count": null,
      "metadata": {
        "colab": {
          "base_uri": "https://localhost:8080/",
          "height": 539
        },
        "id": "RFzhVdaKsXfB",
        "outputId": "63ace755-bc2f-40fa-e540-39536a6e0242"
      },
      "outputs": [
        {
          "output_type": "execute_result",
          "data": {
            "text/plain": [
              "        Destination Port  Flow Duration  Total Fwd Packets  \\\n",
              "638304         -0.358219      -0.654748          -0.010113   \n",
              "544695         -0.358219      -0.654749          -0.010113   \n",
              "571001         -0.358219      -0.654749          -0.010113   \n",
              "597957         -0.358219      -0.654747          -0.010113   \n",
              "660211         -0.358219      -0.654748          -0.010113   \n",
              "...                  ...            ...                ...   \n",
              "538566         -0.358219      -0.654749          -0.010113   \n",
              "685981         -0.358219      -0.654749          -0.010113   \n",
              "346768         -0.358219      -0.654748          -0.010113   \n",
              "685361         -0.358219      -0.654748          -0.010113   \n",
              "575774         -0.358219      -0.654750          -0.010113   \n",
              "\n",
              "        Total Backward Packets  Total Length of Fwd Packets  \\\n",
              "638304               -0.008346                    -0.079351   \n",
              "544695               -0.008346                    -0.080324   \n",
              "571001               -0.008346                    -0.079027   \n",
              "597957               -0.008346                    -0.079676   \n",
              "660211               -0.008346                    -0.079351   \n",
              "...                        ...                          ...   \n",
              "538566               -0.008346                    -0.073186   \n",
              "685981               -0.008346                    -0.074159   \n",
              "346768               -0.008346                    -0.073510   \n",
              "685361               -0.008346                    -0.074808   \n",
              "575774               -0.008346                    -0.073510   \n",
              "\n",
              "        Total Length of Bwd Packets  Fwd Packet Length Max  \\\n",
              "638304                    -0.007522              -0.332246   \n",
              "544695                    -0.007528              -0.337215   \n",
              "571001                    -0.007525              -0.330589   \n",
              "597957                    -0.007530              -0.333902   \n",
              "660211                    -0.007521              -0.332246   \n",
              "...                             ...                    ...   \n",
              "538566                    -0.007523              -0.300776   \n",
              "685981                    -0.007515              -0.305745   \n",
              "346768                    -0.007524              -0.302432   \n",
              "685361                    -0.007527              -0.309057   \n",
              "575774                    -0.007524              -0.302432   \n",
              "\n",
              "        Fwd Packet Length Min  Fwd Packet Length Mean  Fwd Packet Length Std  \\\n",
              "638304               0.352031               -0.174796              -0.366591   \n",
              "544695               0.293287               -0.193826              -0.366591   \n",
              "571001               0.371613               -0.168452              -0.366591   \n",
              "597957               0.332450               -0.181139              -0.366591   \n",
              "660211               0.352031               -0.174796              -0.366591   \n",
              "...                       ...                     ...                    ...   \n",
              "538566               0.724078               -0.054271              -0.366591   \n",
              "685981               0.665334               -0.073301              -0.366591   \n",
              "346768               0.704497               -0.060614              -0.366591   \n",
              "685361               0.626171               -0.085988              -0.366591   \n",
              "575774               0.704497               -0.060614              -0.366591   \n",
              "\n",
              "        ...  Active Mean  Active Std  Active Max  Active Min  Idle Mean  \\\n",
              "638304  ...    -0.131646   -0.100396    -0.14867   -0.104366  -0.579979   \n",
              "544695  ...    -0.131646   -0.100396    -0.14867   -0.104366  -0.579979   \n",
              "571001  ...    -0.131646   -0.100396    -0.14867   -0.104366  -0.579979   \n",
              "597957  ...    -0.131646   -0.100396    -0.14867   -0.104366  -0.579979   \n",
              "660211  ...    -0.131646   -0.100396    -0.14867   -0.104366  -0.579979   \n",
              "...     ...          ...         ...         ...         ...        ...   \n",
              "538566  ...    -0.131646   -0.100396    -0.14867   -0.104366  -0.579979   \n",
              "685981  ...    -0.131646   -0.100396    -0.14867   -0.104366  -0.579979   \n",
              "346768  ...    -0.131646   -0.100396    -0.14867   -0.104366  -0.579979   \n",
              "685361  ...    -0.131646   -0.100396    -0.14867   -0.104366  -0.579979   \n",
              "575774  ...    -0.131646   -0.100396    -0.14867   -0.104366  -0.579979   \n",
              "\n",
              "        Idle Std  Idle Max  Idle Min  Label  klabel  \n",
              "638304 -0.105686  -0.58524  -0.57078      0       0  \n",
              "544695 -0.105686  -0.58524  -0.57078      0       0  \n",
              "571001 -0.105686  -0.58524  -0.57078      0       0  \n",
              "597957 -0.105686  -0.58524  -0.57078      0       0  \n",
              "660211 -0.105686  -0.58524  -0.57078      0       0  \n",
              "...          ...       ...       ...    ...     ...  \n",
              "538566 -0.105686  -0.58524  -0.57078      0     999  \n",
              "685981 -0.105686  -0.58524  -0.57078      0     999  \n",
              "346768 -0.105686  -0.58524  -0.57078      0     999  \n",
              "685361 -0.105686  -0.58524  -0.57078      0     999  \n",
              "575774 -0.105686  -0.58524  -0.57078      0     999  \n",
              "\n",
              "[5442 rows x 80 columns]"
            ],
            "text/html": [
              "\n",
              "  <div id=\"df-1131b75f-b16e-4ed6-a6bf-ae47ea82bda6\">\n",
              "    <div class=\"colab-df-container\">\n",
              "      <div>\n",
              "<style scoped>\n",
              "    .dataframe tbody tr th:only-of-type {\n",
              "        vertical-align: middle;\n",
              "    }\n",
              "\n",
              "    .dataframe tbody tr th {\n",
              "        vertical-align: top;\n",
              "    }\n",
              "\n",
              "    .dataframe thead th {\n",
              "        text-align: right;\n",
              "    }\n",
              "</style>\n",
              "<table border=\"1\" class=\"dataframe\">\n",
              "  <thead>\n",
              "    <tr style=\"text-align: right;\">\n",
              "      <th></th>\n",
              "      <th>Destination Port</th>\n",
              "      <th>Flow Duration</th>\n",
              "      <th>Total Fwd Packets</th>\n",
              "      <th>Total Backward Packets</th>\n",
              "      <th>Total Length of Fwd Packets</th>\n",
              "      <th>Total Length of Bwd Packets</th>\n",
              "      <th>Fwd Packet Length Max</th>\n",
              "      <th>Fwd Packet Length Min</th>\n",
              "      <th>Fwd Packet Length Mean</th>\n",
              "      <th>Fwd Packet Length Std</th>\n",
              "      <th>...</th>\n",
              "      <th>Active Mean</th>\n",
              "      <th>Active Std</th>\n",
              "      <th>Active Max</th>\n",
              "      <th>Active Min</th>\n",
              "      <th>Idle Mean</th>\n",
              "      <th>Idle Std</th>\n",
              "      <th>Idle Max</th>\n",
              "      <th>Idle Min</th>\n",
              "      <th>Label</th>\n",
              "      <th>klabel</th>\n",
              "    </tr>\n",
              "  </thead>\n",
              "  <tbody>\n",
              "    <tr>\n",
              "      <th>638304</th>\n",
              "      <td>-0.358219</td>\n",
              "      <td>-0.654748</td>\n",
              "      <td>-0.010113</td>\n",
              "      <td>-0.008346</td>\n",
              "      <td>-0.079351</td>\n",
              "      <td>-0.007522</td>\n",
              "      <td>-0.332246</td>\n",
              "      <td>0.352031</td>\n",
              "      <td>-0.174796</td>\n",
              "      <td>-0.366591</td>\n",
              "      <td>...</td>\n",
              "      <td>-0.131646</td>\n",
              "      <td>-0.100396</td>\n",
              "      <td>-0.14867</td>\n",
              "      <td>-0.104366</td>\n",
              "      <td>-0.579979</td>\n",
              "      <td>-0.105686</td>\n",
              "      <td>-0.58524</td>\n",
              "      <td>-0.57078</td>\n",
              "      <td>0</td>\n",
              "      <td>0</td>\n",
              "    </tr>\n",
              "    <tr>\n",
              "      <th>544695</th>\n",
              "      <td>-0.358219</td>\n",
              "      <td>-0.654749</td>\n",
              "      <td>-0.010113</td>\n",
              "      <td>-0.008346</td>\n",
              "      <td>-0.080324</td>\n",
              "      <td>-0.007528</td>\n",
              "      <td>-0.337215</td>\n",
              "      <td>0.293287</td>\n",
              "      <td>-0.193826</td>\n",
              "      <td>-0.366591</td>\n",
              "      <td>...</td>\n",
              "      <td>-0.131646</td>\n",
              "      <td>-0.100396</td>\n",
              "      <td>-0.14867</td>\n",
              "      <td>-0.104366</td>\n",
              "      <td>-0.579979</td>\n",
              "      <td>-0.105686</td>\n",
              "      <td>-0.58524</td>\n",
              "      <td>-0.57078</td>\n",
              "      <td>0</td>\n",
              "      <td>0</td>\n",
              "    </tr>\n",
              "    <tr>\n",
              "      <th>571001</th>\n",
              "      <td>-0.358219</td>\n",
              "      <td>-0.654749</td>\n",
              "      <td>-0.010113</td>\n",
              "      <td>-0.008346</td>\n",
              "      <td>-0.079027</td>\n",
              "      <td>-0.007525</td>\n",
              "      <td>-0.330589</td>\n",
              "      <td>0.371613</td>\n",
              "      <td>-0.168452</td>\n",
              "      <td>-0.366591</td>\n",
              "      <td>...</td>\n",
              "      <td>-0.131646</td>\n",
              "      <td>-0.100396</td>\n",
              "      <td>-0.14867</td>\n",
              "      <td>-0.104366</td>\n",
              "      <td>-0.579979</td>\n",
              "      <td>-0.105686</td>\n",
              "      <td>-0.58524</td>\n",
              "      <td>-0.57078</td>\n",
              "      <td>0</td>\n",
              "      <td>0</td>\n",
              "    </tr>\n",
              "    <tr>\n",
              "      <th>597957</th>\n",
              "      <td>-0.358219</td>\n",
              "      <td>-0.654747</td>\n",
              "      <td>-0.010113</td>\n",
              "      <td>-0.008346</td>\n",
              "      <td>-0.079676</td>\n",
              "      <td>-0.007530</td>\n",
              "      <td>-0.333902</td>\n",
              "      <td>0.332450</td>\n",
              "      <td>-0.181139</td>\n",
              "      <td>-0.366591</td>\n",
              "      <td>...</td>\n",
              "      <td>-0.131646</td>\n",
              "      <td>-0.100396</td>\n",
              "      <td>-0.14867</td>\n",
              "      <td>-0.104366</td>\n",
              "      <td>-0.579979</td>\n",
              "      <td>-0.105686</td>\n",
              "      <td>-0.58524</td>\n",
              "      <td>-0.57078</td>\n",
              "      <td>0</td>\n",
              "      <td>0</td>\n",
              "    </tr>\n",
              "    <tr>\n",
              "      <th>660211</th>\n",
              "      <td>-0.358219</td>\n",
              "      <td>-0.654748</td>\n",
              "      <td>-0.010113</td>\n",
              "      <td>-0.008346</td>\n",
              "      <td>-0.079351</td>\n",
              "      <td>-0.007521</td>\n",
              "      <td>-0.332246</td>\n",
              "      <td>0.352031</td>\n",
              "      <td>-0.174796</td>\n",
              "      <td>-0.366591</td>\n",
              "      <td>...</td>\n",
              "      <td>-0.131646</td>\n",
              "      <td>-0.100396</td>\n",
              "      <td>-0.14867</td>\n",
              "      <td>-0.104366</td>\n",
              "      <td>-0.579979</td>\n",
              "      <td>-0.105686</td>\n",
              "      <td>-0.58524</td>\n",
              "      <td>-0.57078</td>\n",
              "      <td>0</td>\n",
              "      <td>0</td>\n",
              "    </tr>\n",
              "    <tr>\n",
              "      <th>...</th>\n",
              "      <td>...</td>\n",
              "      <td>...</td>\n",
              "      <td>...</td>\n",
              "      <td>...</td>\n",
              "      <td>...</td>\n",
              "      <td>...</td>\n",
              "      <td>...</td>\n",
              "      <td>...</td>\n",
              "      <td>...</td>\n",
              "      <td>...</td>\n",
              "      <td>...</td>\n",
              "      <td>...</td>\n",
              "      <td>...</td>\n",
              "      <td>...</td>\n",
              "      <td>...</td>\n",
              "      <td>...</td>\n",
              "      <td>...</td>\n",
              "      <td>...</td>\n",
              "      <td>...</td>\n",
              "      <td>...</td>\n",
              "      <td>...</td>\n",
              "    </tr>\n",
              "    <tr>\n",
              "      <th>538566</th>\n",
              "      <td>-0.358219</td>\n",
              "      <td>-0.654749</td>\n",
              "      <td>-0.010113</td>\n",
              "      <td>-0.008346</td>\n",
              "      <td>-0.073186</td>\n",
              "      <td>-0.007523</td>\n",
              "      <td>-0.300776</td>\n",
              "      <td>0.724078</td>\n",
              "      <td>-0.054271</td>\n",
              "      <td>-0.366591</td>\n",
              "      <td>...</td>\n",
              "      <td>-0.131646</td>\n",
              "      <td>-0.100396</td>\n",
              "      <td>-0.14867</td>\n",
              "      <td>-0.104366</td>\n",
              "      <td>-0.579979</td>\n",
              "      <td>-0.105686</td>\n",
              "      <td>-0.58524</td>\n",
              "      <td>-0.57078</td>\n",
              "      <td>0</td>\n",
              "      <td>999</td>\n",
              "    </tr>\n",
              "    <tr>\n",
              "      <th>685981</th>\n",
              "      <td>-0.358219</td>\n",
              "      <td>-0.654749</td>\n",
              "      <td>-0.010113</td>\n",
              "      <td>-0.008346</td>\n",
              "      <td>-0.074159</td>\n",
              "      <td>-0.007515</td>\n",
              "      <td>-0.305745</td>\n",
              "      <td>0.665334</td>\n",
              "      <td>-0.073301</td>\n",
              "      <td>-0.366591</td>\n",
              "      <td>...</td>\n",
              "      <td>-0.131646</td>\n",
              "      <td>-0.100396</td>\n",
              "      <td>-0.14867</td>\n",
              "      <td>-0.104366</td>\n",
              "      <td>-0.579979</td>\n",
              "      <td>-0.105686</td>\n",
              "      <td>-0.58524</td>\n",
              "      <td>-0.57078</td>\n",
              "      <td>0</td>\n",
              "      <td>999</td>\n",
              "    </tr>\n",
              "    <tr>\n",
              "      <th>346768</th>\n",
              "      <td>-0.358219</td>\n",
              "      <td>-0.654748</td>\n",
              "      <td>-0.010113</td>\n",
              "      <td>-0.008346</td>\n",
              "      <td>-0.073510</td>\n",
              "      <td>-0.007524</td>\n",
              "      <td>-0.302432</td>\n",
              "      <td>0.704497</td>\n",
              "      <td>-0.060614</td>\n",
              "      <td>-0.366591</td>\n",
              "      <td>...</td>\n",
              "      <td>-0.131646</td>\n",
              "      <td>-0.100396</td>\n",
              "      <td>-0.14867</td>\n",
              "      <td>-0.104366</td>\n",
              "      <td>-0.579979</td>\n",
              "      <td>-0.105686</td>\n",
              "      <td>-0.58524</td>\n",
              "      <td>-0.57078</td>\n",
              "      <td>0</td>\n",
              "      <td>999</td>\n",
              "    </tr>\n",
              "    <tr>\n",
              "      <th>685361</th>\n",
              "      <td>-0.358219</td>\n",
              "      <td>-0.654748</td>\n",
              "      <td>-0.010113</td>\n",
              "      <td>-0.008346</td>\n",
              "      <td>-0.074808</td>\n",
              "      <td>-0.007527</td>\n",
              "      <td>-0.309057</td>\n",
              "      <td>0.626171</td>\n",
              "      <td>-0.085988</td>\n",
              "      <td>-0.366591</td>\n",
              "      <td>...</td>\n",
              "      <td>-0.131646</td>\n",
              "      <td>-0.100396</td>\n",
              "      <td>-0.14867</td>\n",
              "      <td>-0.104366</td>\n",
              "      <td>-0.579979</td>\n",
              "      <td>-0.105686</td>\n",
              "      <td>-0.58524</td>\n",
              "      <td>-0.57078</td>\n",
              "      <td>0</td>\n",
              "      <td>999</td>\n",
              "    </tr>\n",
              "    <tr>\n",
              "      <th>575774</th>\n",
              "      <td>-0.358219</td>\n",
              "      <td>-0.654750</td>\n",
              "      <td>-0.010113</td>\n",
              "      <td>-0.008346</td>\n",
              "      <td>-0.073510</td>\n",
              "      <td>-0.007524</td>\n",
              "      <td>-0.302432</td>\n",
              "      <td>0.704497</td>\n",
              "      <td>-0.060614</td>\n",
              "      <td>-0.366591</td>\n",
              "      <td>...</td>\n",
              "      <td>-0.131646</td>\n",
              "      <td>-0.100396</td>\n",
              "      <td>-0.14867</td>\n",
              "      <td>-0.104366</td>\n",
              "      <td>-0.579979</td>\n",
              "      <td>-0.105686</td>\n",
              "      <td>-0.58524</td>\n",
              "      <td>-0.57078</td>\n",
              "      <td>0</td>\n",
              "      <td>999</td>\n",
              "    </tr>\n",
              "  </tbody>\n",
              "</table>\n",
              "<p>5442 rows × 80 columns</p>\n",
              "</div>\n",
              "      <button class=\"colab-df-convert\" onclick=\"convertToInteractive('df-1131b75f-b16e-4ed6-a6bf-ae47ea82bda6')\"\n",
              "              title=\"Convert this dataframe to an interactive table.\"\n",
              "              style=\"display:none;\">\n",
              "        \n",
              "  <svg xmlns=\"http://www.w3.org/2000/svg\" height=\"24px\"viewBox=\"0 0 24 24\"\n",
              "       width=\"24px\">\n",
              "    <path d=\"M0 0h24v24H0V0z\" fill=\"none\"/>\n",
              "    <path d=\"M18.56 5.44l.94 2.06.94-2.06 2.06-.94-2.06-.94-.94-2.06-.94 2.06-2.06.94zm-11 1L8.5 8.5l.94-2.06 2.06-.94-2.06-.94L8.5 2.5l-.94 2.06-2.06.94zm10 10l.94 2.06.94-2.06 2.06-.94-2.06-.94-.94-2.06-.94 2.06-2.06.94z\"/><path d=\"M17.41 7.96l-1.37-1.37c-.4-.4-.92-.59-1.43-.59-.52 0-1.04.2-1.43.59L10.3 9.45l-7.72 7.72c-.78.78-.78 2.05 0 2.83L4 21.41c.39.39.9.59 1.41.59.51 0 1.02-.2 1.41-.59l7.78-7.78 2.81-2.81c.8-.78.8-2.07 0-2.86zM5.41 20L4 18.59l7.72-7.72 1.47 1.35L5.41 20z\"/>\n",
              "  </svg>\n",
              "      </button>\n",
              "      \n",
              "  <style>\n",
              "    .colab-df-container {\n",
              "      display:flex;\n",
              "      flex-wrap:wrap;\n",
              "      gap: 12px;\n",
              "    }\n",
              "\n",
              "    .colab-df-convert {\n",
              "      background-color: #E8F0FE;\n",
              "      border: none;\n",
              "      border-radius: 50%;\n",
              "      cursor: pointer;\n",
              "      display: none;\n",
              "      fill: #1967D2;\n",
              "      height: 32px;\n",
              "      padding: 0 0 0 0;\n",
              "      width: 32px;\n",
              "    }\n",
              "\n",
              "    .colab-df-convert:hover {\n",
              "      background-color: #E2EBFA;\n",
              "      box-shadow: 0px 1px 2px rgba(60, 64, 67, 0.3), 0px 1px 3px 1px rgba(60, 64, 67, 0.15);\n",
              "      fill: #174EA6;\n",
              "    }\n",
              "\n",
              "    [theme=dark] .colab-df-convert {\n",
              "      background-color: #3B4455;\n",
              "      fill: #D2E3FC;\n",
              "    }\n",
              "\n",
              "    [theme=dark] .colab-df-convert:hover {\n",
              "      background-color: #434B5C;\n",
              "      box-shadow: 0px 1px 3px 1px rgba(0, 0, 0, 0.15);\n",
              "      filter: drop-shadow(0px 1px 2px rgba(0, 0, 0, 0.3));\n",
              "      fill: #FFFFFF;\n",
              "    }\n",
              "  </style>\n",
              "\n",
              "      <script>\n",
              "        const buttonEl =\n",
              "          document.querySelector('#df-1131b75f-b16e-4ed6-a6bf-ae47ea82bda6 button.colab-df-convert');\n",
              "        buttonEl.style.display =\n",
              "          google.colab.kernel.accessAllowed ? 'block' : 'none';\n",
              "\n",
              "        async function convertToInteractive(key) {\n",
              "          const element = document.querySelector('#df-1131b75f-b16e-4ed6-a6bf-ae47ea82bda6');\n",
              "          const dataTable =\n",
              "            await google.colab.kernel.invokeFunction('convertToInteractive',\n",
              "                                                     [key], {});\n",
              "          if (!dataTable) return;\n",
              "\n",
              "          const docLinkHtml = 'Like what you see? Visit the ' +\n",
              "            '<a target=\"_blank\" href=https://colab.research.google.com/notebooks/data_table.ipynb>data table notebook</a>'\n",
              "            + ' to learn more about interactive tables.';\n",
              "          element.innerHTML = '';\n",
              "          dataTable['output_type'] = 'display_data';\n",
              "          await google.colab.output.renderOutput(dataTable, element);\n",
              "          const docLink = document.createElement('div');\n",
              "          docLink.innerHTML = docLinkHtml;\n",
              "          element.appendChild(docLink);\n",
              "        }\n",
              "      </script>\n",
              "    </div>\n",
              "  </div>\n",
              "  "
            ]
          },
          "metadata": {},
          "execution_count": 158
        }
      ],
      "source": [
        "result"
      ]
    },
    {
      "cell_type": "code",
      "execution_count": null,
      "metadata": {
        "id": "JD6o6X8JscM1"
      },
      "outputs": [],
      "source": [
        "result = result.drop(['klabel'],axis=1)\n",
        "result = result.append(df_minor)"
      ]
    },
    {
      "cell_type": "code",
      "execution_count": null,
      "metadata": {
        "id": "r8b5xsgYsc9O"
      },
      "outputs": [],
      "source": [
        "result.to_csv('/content/drive/MyDrive/Intrusion-Detection-System-Using-Machine-Learning-main/data/CICIDS2017_sample_km.csv',index=0)\n"
      ]
    },
    {
      "cell_type": "code",
      "execution_count": null,
      "metadata": {
        "id": "F4kBqNZwsfdP"
      },
      "outputs": [],
      "source": [
        "# Read the sampled dataset\n",
        "df=pd.read_csv('/content/drive/MyDrive/Intrusion-Detection-System-Using-Machine-Learning-main/data/CICIDS2017_sample_km.csv')"
      ]
    },
    {
      "cell_type": "code",
      "execution_count": null,
      "metadata": {
        "id": "KQQIL2cRshr9"
      },
      "outputs": [],
      "source": [
        "X = df.drop(['Label'],axis=1).values\n",
        "y = df.iloc[:, -1].values.reshape(-1,1)\n",
        "y=np.ravel(y)"
      ]
    },
    {
      "cell_type": "code",
      "execution_count": null,
      "metadata": {
        "id": "mkId2l_esmlN"
      },
      "outputs": [],
      "source": [
        "X_train, X_test, y_train, y_test = train_test_split(X,y, train_size = 0.8, test_size = 0.2, random_state = 0,stratify = y)"
      ]
    },
    {
      "cell_type": "code",
      "execution_count": null,
      "metadata": {
        "id": "a5dZG1m0srxF"
      },
      "outputs": [],
      "source": [
        "from sklearn.feature_selection import mutual_info_classif\n",
        "importances = mutual_info_classif(X_train, y_train)"
      ]
    },
    {
      "cell_type": "code",
      "execution_count": null,
      "metadata": {
        "id": "wS4s5PRbsviU"
      },
      "outputs": [],
      "source": [
        "f_list = sorted(zip(map(lambda x: round(x, 4), importances), features), reverse=True)\n",
        "Sum = 0\n",
        "fs = []\n",
        "for i in range(0, len(f_list)):\n",
        "    Sum = Sum + f_list[i][0]\n",
        "    fs.append(f_list[i][1])"
      ]
    },
    {
      "cell_type": "code",
      "execution_count": null,
      "metadata": {
        "id": "j1z7lxD6syN-"
      },
      "outputs": [],
      "source": [
        "f_list2 = sorted(zip(map(lambda x: round(x, 4), importances/Sum), features), reverse=True)\n",
        "Sum2 = 0\n",
        "fs = []\n",
        "for i in range(0, len(f_list2)):\n",
        "    Sum2 = Sum2 + f_list2[i][0]\n",
        "    fs.append(f_list2[i][1])\n",
        "    if Sum2>=0.9:\n",
        "        break    "
      ]
    },
    {
      "cell_type": "code",
      "execution_count": null,
      "metadata": {
        "id": "wq2dc19Js0oj"
      },
      "outputs": [],
      "source": [
        "X_fs = df[fs].values"
      ]
    },
    {
      "cell_type": "code",
      "execution_count": null,
      "metadata": {
        "colab": {
          "base_uri": "https://localhost:8080/"
        },
        "id": "MP-f3GLys30n",
        "outputId": "cc222d98-44c1-4726-d2cf-507a48893417"
      },
      "outputs": [
        {
          "output_type": "execute_result",
          "data": {
            "text/plain": [
              "(16748, 47)"
            ]
          },
          "metadata": {},
          "execution_count": 168
        }
      ],
      "source": [
        "X_fs.shape"
      ]
    },
    {
      "cell_type": "code",
      "execution_count": null,
      "metadata": {
        "id": "KzCe96W4s6-y"
      },
      "outputs": [],
      "source": [
        "from FCBF_module import FCBF, FCBFK, FCBFiP, get_i\n",
        "fcbf = FCBFK(k = 20)\n",
        "#fcbf.fit(X_fs, y)"
      ]
    },
    {
      "cell_type": "code",
      "execution_count": null,
      "metadata": {
        "id": "yG-ESo2Is750"
      },
      "outputs": [],
      "source": [
        "X_fss = fcbf.fit_transform(X_fs,y)"
      ]
    },
    {
      "cell_type": "code",
      "execution_count": null,
      "metadata": {
        "colab": {
          "base_uri": "https://localhost:8080/"
        },
        "id": "HNcttGf0s--p",
        "outputId": "3a356e83-d124-413f-9220-2ff1dc13edd1"
      },
      "outputs": [
        {
          "output_type": "execute_result",
          "data": {
            "text/plain": [
              "(16748, 20)"
            ]
          },
          "metadata": {},
          "execution_count": 171
        }
      ],
      "source": [
        "X_fss.shape"
      ]
    },
    {
      "cell_type": "code",
      "execution_count": null,
      "metadata": {
        "id": "Zr0JJoA7tB-_"
      },
      "outputs": [],
      "source": [
        "X_train, X_test, y_train, y_test = train_test_split(X_fss,y, train_size = 0.8, test_size = 0.2, random_state = 0,stratify = y)"
      ]
    },
    {
      "cell_type": "code",
      "execution_count": null,
      "metadata": {
        "colab": {
          "base_uri": "https://localhost:8080/"
        },
        "id": "CkRePRQOtJFY",
        "outputId": "533fcd60-c7c9-4655-ea40-96650de96e64"
      },
      "outputs": [
        {
          "output_type": "execute_result",
          "data": {
            "text/plain": [
              "(13398, 20)"
            ]
          },
          "metadata": {},
          "execution_count": 173
        }
      ],
      "source": [
        "X_train.shape"
      ]
    },
    {
      "cell_type": "code",
      "execution_count": null,
      "metadata": {
        "colab": {
          "base_uri": "https://localhost:8080/"
        },
        "id": "4Hg_DgMOtLMD",
        "outputId": "f5d26457-7408-455d-a810-a3237829367e"
      },
      "outputs": [
        {
          "output_type": "execute_result",
          "data": {
            "text/plain": [
              "4    4637\n",
              "3    4399\n",
              "0    2809\n",
              "2    1472\n",
              "1      72\n",
              "5       9\n",
              "dtype: int64"
            ]
          },
          "metadata": {},
          "execution_count": 174
        }
      ],
      "source": [
        "pd.Series(y_train).value_counts()"
      ]
    },
    {
      "cell_type": "code",
      "execution_count": null,
      "metadata": {
        "id": "Iac_L5ARtNy-"
      },
      "outputs": [],
      "source": [
        "from imblearn.over_sampling import SMOTE\n",
        "smote=SMOTE(n_jobs=-1,sampling_strategy={1:4637,5:4637})"
      ]
    },
    {
      "cell_type": "code",
      "execution_count": null,
      "metadata": {
        "id": "P0QbpflytTCH"
      },
      "outputs": [],
      "source": [
        "X_train, y_train = smote.fit_resample(X_train, y_train)"
      ]
    },
    {
      "cell_type": "code",
      "execution_count": null,
      "metadata": {
        "colab": {
          "base_uri": "https://localhost:8080/"
        },
        "id": "9YYa7QfrtVQ6",
        "outputId": "016491b9-9785-4c59-e5e7-b0f3ddb59bf0"
      },
      "outputs": [
        {
          "output_type": "execute_result",
          "data": {
            "text/plain": [
              "4    4637\n",
              "1    4637\n",
              "5    4637\n",
              "3    4399\n",
              "0    2809\n",
              "2    1472\n",
              "dtype: int64"
            ]
          },
          "metadata": {},
          "execution_count": 177
        }
      ],
      "source": [
        "pd.Series(y_train).value_counts()"
      ]
    },
    {
      "cell_type": "code",
      "execution_count": null,
      "metadata": {
        "colab": {
          "base_uri": "https://localhost:8080/",
          "height": 779
        },
        "id": "RHWptawntYAT",
        "outputId": "47ebfbd7-43a1-4f52-ef4c-962a29eac864"
      },
      "outputs": [
        {
          "output_type": "stream",
          "name": "stdout",
          "text": [
            "Accuracy of XGBoost: 0.9946268656716418\n",
            "Precision of XGBoost: 0.9947616475442752\n",
            "Recall of XGBoost: 0.9946268656716418\n",
            "F1-score of XGBoost: 0.9946592144812687\n",
            "              precision    recall  f1-score   support\n",
            "\n",
            "           0       0.99      1.00      1.00       703\n",
            "           1       0.86      1.00      0.92        18\n",
            "           2       0.99      1.00      1.00       368\n",
            "           3       1.00      0.99      1.00      1100\n",
            "           4       0.99      0.99      0.99      1159\n",
            "           5       1.00      1.00      1.00         2\n",
            "\n",
            "    accuracy                           0.99      3350\n",
            "   macro avg       0.97      1.00      0.98      3350\n",
            "weighted avg       0.99      0.99      0.99      3350\n",
            "\n"
          ]
        },
        {
          "output_type": "display_data",
          "data": {
            "text/plain": [
              "<Figure size 500x500 with 2 Axes>"
            ],
            "image/png": "[encoded data removed]"
          },
          "metadata": {}
        }
      ],
      "source": [
        "xg = xgb.XGBClassifier(n_estimators = 10)\n",
        "xg.fit(X_train,y_train)\n",
        "xg_score=xg.score(X_test,y_test)\n",
        "y_predict=xg.predict(X_test)\n",
        "y_true=y_test\n",
        "print('Accuracy of XGBoost: '+ str(xg_score))\n",
        "precision,recall,fscore,none= precision_recall_fscore_support(y_true, y_predict, average='weighted') \n",
        "print('Precision of XGBoost: '+(str(precision)))\n",
        "print('Recall of XGBoost: '+(str(recall)))\n",
        "print('F1-score of XGBoost: '+(str(fscore)))\n",
        "print(classification_report(y_true,y_predict))\n",
        "cm=confusion_matrix(y_true,y_predict)\n",
        "f,ax=plt.subplots(figsize=(5,5))\n",
        "sns.heatmap(cm,annot=True,linewidth=0.5,linecolor=\"red\",fmt=\".0f\",ax=ax)\n",
        "plt.xlabel(\"y_pred\")\n",
        "plt.ylabel(\"y_true\")\n",
        "plt.show()"
      ]
    },
    {
      "cell_type": "code",
      "execution_count": null,
      "metadata": {
        "colab": {
          "base_uri": "https://localhost:8080/"
        },
        "id": "tO4s-wEUtdoe",
        "outputId": "a19a6b0a-e809-4822-be64-a71cdc98e08a"
      },
      "outputs": [
        {
          "output_type": "stream",
          "name": "stdout",
          "text": [
            "100%|██████████| 20/20 [03:23<00:00, 10.18s/trial, best loss: -0.9961194029850746]\n",
            "XGBoost: Hyperopt estimated optimum {'learning_rate': -0.44190297516959487, 'max_depth': 7.0, 'n_estimators': 45.0}\n"
          ]
        }
      ],
      "source": [
        "from hyperopt import hp, fmin, tpe, STATUS_OK, Trials\n",
        "from sklearn.model_selection import cross_val_score, StratifiedKFold\n",
        "def objective(params):\n",
        "    params = {\n",
        "        'n_estimators': int(params['n_estimators']), \n",
        "        'max_depth': int(params['max_depth']),\n",
        "        'learning_rate':  abs(float(params['learning_rate'])),\n",
        "\n",
        "    }\n",
        "    clf = xgb.XGBClassifier( **params)\n",
        "    clf.fit(X_train, y_train)\n",
        "    y_pred = clf.predict(X_test)\n",
        "    score = accuracy_score(y_test, y_pred)\n",
        "\n",
        "    return {'loss':-score, 'status': STATUS_OK }\n",
        "\n",
        "space = {\n",
        "    'n_estimators': hp.quniform('n_estimators', 10, 100, 5),\n",
        "    'max_depth': hp.quniform('max_depth', 4, 100, 1),\n",
        "    'learning_rate': hp.normal('learning_rate', 0.01, 0.9),\n",
        "}\n",
        "\n",
        "best = fmin(fn=objective,\n",
        "            space=space,\n",
        "            algo=tpe.suggest,\n",
        "            max_evals=20)\n",
        "print(\"XGBoost: Hyperopt estimated optimum {}\".format(best))"
      ]
    },
    {
      "cell_type": "code",
      "execution_count": null,
      "metadata": {
        "colab": {
          "base_uri": "https://localhost:8080/",
          "height": 779
        },
        "id": "gk-gififtkTF",
        "outputId": "a788e68b-6b9d-40d5-8ad2-4cdb257f4883"
      },
      "outputs": [
        {
          "output_type": "stream",
          "name": "stdout",
          "text": [
            "Accuracy of XGBoost: 0.9955223880597015\n",
            "Precision of XGBoost: 0.9955445237051496\n",
            "Recall of XGBoost: 0.9955223880597015\n",
            "F1-score of XGBoost: 0.9955269012580921\n",
            "              precision    recall  f1-score   support\n",
            "\n",
            "           0       0.99      0.99      0.99       703\n",
            "           1       0.95      1.00      0.97        18\n",
            "           2       0.99      1.00      1.00       368\n",
            "           3       1.00      1.00      1.00      1100\n",
            "           4       0.99      1.00      0.99      1159\n",
            "           5       1.00      1.00      1.00         2\n",
            "\n",
            "    accuracy                           1.00      3350\n",
            "   macro avg       0.99      1.00      0.99      3350\n",
            "weighted avg       1.00      1.00      1.00      3350\n",
            "\n"
          ]
        },
        {
          "output_type": "display_data",
          "data": {
            "text/plain": [
              "<Figure size 500x500 with 2 Axes>"
            ],
            "image/png": "[encoded data removed]"
          },
          "metadata": {}
        }
      ],
      "source": [
        "xg = xgb.XGBClassifier(learning_rate= 0.7340229699980686, n_estimators = 70, max_depth = 14)\n",
        "xg.fit(X_train,y_train)\n",
        "xg_score=xg.score(X_test,y_test)\n",
        "y_predict=xg.predict(X_test)\n",
        "y_true=y_test\n",
        "print('Accuracy of XGBoost: '+ str(xg_score))\n",
        "precision,recall,fscore,none= precision_recall_fscore_support(y_true, y_predict, average='weighted') \n",
        "print('Precision of XGBoost: '+(str(precision)))\n",
        "print('Recall of XGBoost: '+(str(recall)))\n",
        "print('F1-score of XGBoost: '+(str(fscore)))\n",
        "print(classification_report(y_true,y_predict))\n",
        "cm=confusion_matrix(y_true,y_predict)\n",
        "f,ax=plt.subplots(figsize=(5,5))\n",
        "sns.heatmap(cm,annot=True,linewidth=0.5,linecolor=\"red\",fmt=\".0f\",ax=ax)\n",
        "plt.xlabel(\"y_pred\")\n",
        "plt.ylabel(\"y_true\")\n",
        "plt.show()\n"
      ]
    },
    {
      "cell_type": "code",
      "execution_count": null,
      "metadata": {
        "id": "MXJ7P0RDtprj"
      },
      "outputs": [],
      "source": [
        "xg_train=xg.predict(X_train)\n",
        "xg_test=xg.predict(X_test)"
      ]
    },
    {
      "cell_type": "code",
      "execution_count": null,
      "metadata": {
        "colab": {
          "base_uri": "https://localhost:8080/",
          "height": 779
        },
        "id": "Lcf33dYAttBK",
        "outputId": "2ec1b905-8255-4edf-8536-be5ca52ddc4c"
      },
      "outputs": [
        {
          "output_type": "stream",
          "name": "stdout",
          "text": [
            "Accuracy of RF: 0.9958208955223881\n",
            "Precision of RF: 0.9958287050569067\n",
            "Recall of RF: 0.9958208955223881\n",
            "F1-score of RF: 0.9958177604022175\n",
            "              precision    recall  f1-score   support\n",
            "\n",
            "           0       0.99      0.99      0.99       703\n",
            "           1       1.00      0.94      0.97        18\n",
            "           2       0.99      1.00      1.00       368\n",
            "           3       1.00      1.00      1.00      1100\n",
            "           4       0.99      1.00      1.00      1159\n",
            "           5       1.00      1.00      1.00         2\n",
            "\n",
            "    accuracy                           1.00      3350\n",
            "   macro avg       1.00      0.99      0.99      3350\n",
            "weighted avg       1.00      1.00      1.00      3350\n",
            "\n"
          ]
        },
        {
          "output_type": "display_data",
          "data": {
            "text/plain": [
              "<Figure size 500x500 with 2 Axes>"
            ],
            "image/png": "[encoded data removed]"
          },
          "metadata": {}
        }
      ],
      "source": [
        "rf = RandomForestClassifier(random_state = 0)\n",
        "rf.fit(X_train,y_train) \n",
        "rf_score=rf.score(X_test,y_test)\n",
        "y_predict=rf.predict(X_test)\n",
        "y_true=y_test\n",
        "print('Accuracy of RF: '+ str(rf_score))\n",
        "precision,recall,fscore,none= precision_recall_fscore_support(y_true, y_predict, average='weighted') \n",
        "print('Precision of RF: '+(str(precision)))\n",
        "print('Recall of RF: '+(str(recall)))\n",
        "print('F1-score of RF: '+(str(fscore)))\n",
        "print(classification_report(y_true,y_predict))\n",
        "cm=confusion_matrix(y_true,y_predict)\n",
        "f,ax=plt.subplots(figsize=(5,5))\n",
        "sns.heatmap(cm,annot=True,linewidth=0.5,linecolor=\"red\",fmt=\".0f\",ax=ax)\n",
        "plt.xlabel(\"y_pred\")\n",
        "plt.ylabel(\"y_true\")\n",
        "plt.show()"
      ]
    },
    {
      "cell_type": "code",
      "execution_count": null,
      "metadata": {
        "id": "Mf_dpjcFtw99",
        "colab": {
          "base_uri": "https://localhost:8080/"
        },
        "outputId": "e9c64afe-ad9e-4ec6-915b-7cdf4edef915"
      },
      "outputs": [
        {
          "output_type": "stream",
          "name": "stdout",
          "text": [
            "100%|██████████| 20/20 [01:50<00:00,  5.51s/trial, best loss: -0.9958208955223881]\n",
            "Random Forest: Hyperopt estimated optimum {'criterion': 0, 'max_depth': 25.0, 'max_features': 9.0, 'min_samples_leaf': 2.0, 'min_samples_split': 5.0, 'n_estimators': 22.0}\n"
          ]
        }
      ],
      "source": [
        "from hyperopt import hp, fmin, tpe, STATUS_OK, Trials\n",
        "from sklearn.model_selection import cross_val_score, StratifiedKFold\n",
        "# Define the objective function\n",
        "def objective(params):\n",
        "    params = {\n",
        "        'n_estimators': int(params['n_estimators']), \n",
        "        'max_depth': int(params['max_depth']),\n",
        "        'max_features': int(params['max_features']),\n",
        "        \"min_samples_split\":int(params['min_samples_split']),\n",
        "        \"min_samples_leaf\":int(params['min_samples_leaf']),\n",
        "        \"criterion\":str(params['criterion'])\n",
        "    }\n",
        "    clf = RandomForestClassifier( **params)\n",
        "    clf.fit(X_train,y_train)\n",
        "    score=clf.score(X_test,y_test)\n",
        "\n",
        "    return {'loss':-score, 'status': STATUS_OK }\n",
        "# Define the hyperparameter configuration space\n",
        "space = {\n",
        "    'n_estimators': hp.quniform('n_estimators', 10, 200, 1),\n",
        "    'max_depth': hp.quniform('max_depth', 5, 50, 1),\n",
        "    \"max_features\":hp.quniform('max_features', 1, 20, 1),\n",
        "    \"min_samples_split\":hp.quniform('min_samples_split',2,11,1),\n",
        "    \"min_samples_leaf\":hp.quniform('min_samples_leaf',1,11,1),\n",
        "    \"criterion\":hp.choice('criterion',['gini','entropy'])\n",
        "}\n",
        "\n",
        "best = fmin(fn=objective,\n",
        "            space=space,\n",
        "            algo=tpe.suggest,\n",
        "            max_evals=20)\n",
        "print(\"Random Forest: Hyperopt estimated optimum {}\".format(best))"
      ]
    },
    {
      "cell_type": "code",
      "execution_count": null,
      "metadata": {
        "id": "z0M2eK-rt2Y-",
        "colab": {
          "base_uri": "https://localhost:8080/",
          "height": 779
        },
        "outputId": "24e429de-f303-4be4-a46c-010ccf2e8af6"
      },
      "outputs": [
        {
          "output_type": "stream",
          "name": "stdout",
          "text": [
            "Accuracy of RF: 0.993731343283582\n",
            "Precision of RF: 0.9937774243594241\n",
            "Recall of RF: 0.993731343283582\n",
            "F1-score of RF: 0.9937446297560425\n",
            "              precision    recall  f1-score   support\n",
            "\n",
            "           0       0.99      1.00      0.99       703\n",
            "           1       0.89      0.94      0.92        18\n",
            "           2       0.99      1.00      1.00       368\n",
            "           3       1.00      0.99      0.99      1100\n",
            "           4       0.99      0.99      0.99      1159\n",
            "           5       1.00      1.00      1.00         2\n",
            "\n",
            "    accuracy                           0.99      3350\n",
            "   macro avg       0.98      0.99      0.98      3350\n",
            "weighted avg       0.99      0.99      0.99      3350\n",
            "\n"
          ]
        },
        {
          "output_type": "display_data",
          "data": {
            "text/plain": [
              "<Figure size 500x500 with 2 Axes>"
            ],
            "image/png": "[encoded data removed]"
          },
          "metadata": {}
        }
      ],
      "source": [
        "rf_hpo = RandomForestClassifier(n_estimators = 71, min_samples_leaf = 1, max_depth = 46, min_samples_split = 9, max_features = 20, criterion = 'entropy')\n",
        "rf_hpo.fit(X_train,y_train)\n",
        "rf_score=rf_hpo.score(X_test,y_test)\n",
        "y_predict=rf_hpo.predict(X_test)\n",
        "y_true=y_test\n",
        "print('Accuracy of RF: '+ str(rf_score))\n",
        "precision,recall,fscore,none= precision_recall_fscore_support(y_true, y_predict, average='weighted') \n",
        "print('Precision of RF: '+(str(precision)))\n",
        "print('Recall of RF: '+(str(recall)))\n",
        "print('F1-score of RF: '+(str(fscore)))\n",
        "print(classification_report(y_true,y_predict))\n",
        "cm=confusion_matrix(y_true,y_predict)\n",
        "f,ax=plt.subplots(figsize=(5,5))\n",
        "sns.heatmap(cm,annot=True,linewidth=0.5,linecolor=\"red\",fmt=\".0f\",ax=ax)\n",
        "plt.xlabel(\"y_pred\")\n",
        "plt.ylabel(\"y_true\")\n",
        "plt.show()"
      ]
    },
    {
      "cell_type": "code",
      "execution_count": null,
      "metadata": {
        "id": "iTj4ihzYt69H"
      },
      "outputs": [],
      "source": [
        "rf_train=rf_hpo.predict(X_train)\n",
        "rf_test=rf_hpo.predict(X_test)"
      ]
    },
    {
      "cell_type": "code",
      "execution_count": null,
      "metadata": {
        "id": "aeZ4FS9rt_BW",
        "colab": {
          "base_uri": "https://localhost:8080/",
          "height": 779
        },
        "outputId": "9e271de2-ae81-4ef4-bcd5-c44cbb8bd81a"
      },
      "outputs": [
        {
          "output_type": "stream",
          "name": "stdout",
          "text": [
            "Accuracy of DT: 0.9943283582089553\n",
            "Precision of DT: 0.9943170638704768\n",
            "Recall of DT: 0.9943283582089553\n",
            "F1-score of DT: 0.9943175441629073\n",
            "              precision    recall  f1-score   support\n",
            "\n",
            "           0       0.99      0.99      0.99       703\n",
            "           1       0.94      0.89      0.91        18\n",
            "           2       1.00      0.99      1.00       368\n",
            "           3       1.00      1.00      1.00      1100\n",
            "           4       0.99      1.00      0.99      1159\n",
            "           5       1.00      1.00      1.00         2\n",
            "\n",
            "    accuracy                           0.99      3350\n",
            "   macro avg       0.99      0.98      0.98      3350\n",
            "weighted avg       0.99      0.99      0.99      3350\n",
            "\n"
          ]
        },
        {
          "output_type": "display_data",
          "data": {
            "text/plain": [
              "<Figure size 500x500 with 2 Axes>"
            ],
            "image/png": "[encoded data removed]"
          },
          "metadata": {}
        }
      ],
      "source": [
        "dt = DecisionTreeClassifier(random_state = 0)\n",
        "dt.fit(X_train,y_train) \n",
        "dt_score=dt.score(X_test,y_test)\n",
        "y_predict=dt.predict(X_test)\n",
        "y_true=y_test\n",
        "print('Accuracy of DT: '+ str(dt_score))\n",
        "precision,recall,fscore,none= precision_recall_fscore_support(y_true, y_predict, average='weighted') \n",
        "print('Precision of DT: '+(str(precision)))\n",
        "print('Recall of DT: '+(str(recall)))\n",
        "print('F1-score of DT: '+(str(fscore)))\n",
        "print(classification_report(y_true,y_predict))\n",
        "cm=confusion_matrix(y_true,y_predict)\n",
        "f,ax=plt.subplots(figsize=(5,5))\n",
        "sns.heatmap(cm,annot=True,linewidth=0.5,linecolor=\"red\",fmt=\".0f\",ax=ax)\n",
        "plt.xlabel(\"y_pred\")\n",
        "plt.ylabel(\"y_true\")\n",
        "plt.show()"
      ]
    },
    {
      "cell_type": "code",
      "execution_count": null,
      "metadata": {
        "id": "V97WBiYiuCK8",
        "colab": {
          "base_uri": "https://localhost:8080/"
        },
        "outputId": "a1dff006-889b-4b2a-f812-d7818e6e9160"
      },
      "outputs": [
        {
          "output_type": "stream",
          "name": "stdout",
          "text": [
            "100%|██████████| 50/50 [00:05<00:00,  9.34trial/s, best loss: -0.9949253731343284]\n",
            "Decision tree: Hyperopt estimated optimum {'criterion': 0, 'max_depth': 24.0, 'max_features': 14.0, 'min_samples_leaf': 3.0, 'min_samples_split': 8.0}\n"
          ]
        }
      ],
      "source": [
        "from hyperopt import hp, fmin, tpe, STATUS_OK, Trials\n",
        "from sklearn.model_selection import cross_val_score, StratifiedKFold\n",
        "# Define the objective function\n",
        "def objective(params):\n",
        "    params = {\n",
        "        'max_depth': int(params['max_depth']),\n",
        "        'max_features': int(params['max_features']),\n",
        "        \"min_samples_split\":int(params['min_samples_split']),\n",
        "        \"min_samples_leaf\":int(params['min_samples_leaf']),\n",
        "        \"criterion\":str(params['criterion'])\n",
        "    }\n",
        "    clf = DecisionTreeClassifier( **params)\n",
        "    clf.fit(X_train,y_train)\n",
        "    score=clf.score(X_test,y_test)\n",
        "\n",
        "    return {'loss':-score, 'status': STATUS_OK }\n",
        "# Define the hyperparameter configuration space\n",
        "space = {\n",
        "    'max_depth': hp.quniform('max_depth', 5, 50, 1),\n",
        "    \"max_features\":hp.quniform('max_features', 1, 20, 1),\n",
        "    \"min_samples_split\":hp.quniform('min_samples_split',2,11,1),\n",
        "    \"min_samples_leaf\":hp.quniform('min_samples_leaf',1,11,1),\n",
        "    \"criterion\":hp.choice('criterion',['gini','entropy'])\n",
        "}\n",
        "\n",
        "best = fmin(fn=objective,\n",
        "            space=space,\n",
        "            algo=tpe.suggest,\n",
        "            max_evals=50)\n",
        "print(\"Decision tree: Hyperopt estimated optimum {}\".format(best))"
      ]
    },
    {
      "cell_type": "code",
      "execution_count": null,
      "metadata": {
        "id": "bgHsVWxYuIPf",
        "colab": {
          "base_uri": "https://localhost:8080/",
          "height": 779
        },
        "outputId": "ce7cc0c6-1360-4ec6-f127-4bf10c559caa"
      },
      "outputs": [
        {
          "output_type": "stream",
          "name": "stdout",
          "text": [
            "Accuracy of DT: 0.9952238805970149\n",
            "Precision of DT: 0.9952548398331158\n",
            "Recall of DT: 0.9952238805970149\n",
            "F1-score of DT: 0.9952248244220441\n",
            "              precision    recall  f1-score   support\n",
            "\n",
            "           0       0.99      1.00      0.99       703\n",
            "           1       1.00      0.94      0.97        18\n",
            "           2       1.00      0.99      1.00       368\n",
            "           3       1.00      0.99      1.00      1100\n",
            "           4       0.99      1.00      1.00      1159\n",
            "           5       1.00      1.00      1.00         2\n",
            "\n",
            "    accuracy                           1.00      3350\n",
            "   macro avg       1.00      0.99      0.99      3350\n",
            "weighted avg       1.00      1.00      1.00      3350\n",
            "\n"
          ]
        },
        {
          "output_type": "display_data",
          "data": {
            "text/plain": [
              "<Figure size 500x500 with 2 Axes>"
            ],
            "image/png": "[encoded data removed]"
          },
          "metadata": {}
        }
      ],
      "source": [
        "dt_hpo = DecisionTreeClassifier(min_samples_leaf = 2, max_depth = 47, min_samples_split = 3, max_features = 19, criterion = 'gini')\n",
        "dt_hpo.fit(X_train,y_train)\n",
        "dt_score=dt_hpo.score(X_test,y_test)\n",
        "y_predict=dt_hpo.predict(X_test)\n",
        "y_true=y_test\n",
        "print('Accuracy of DT: '+ str(dt_score))\n",
        "precision,recall,fscore,none= precision_recall_fscore_support(y_true, y_predict, average='weighted') \n",
        "print('Precision of DT: '+(str(precision)))\n",
        "print('Recall of DT: '+(str(recall)))\n",
        "print('F1-score of DT: '+(str(fscore)))\n",
        "print(classification_report(y_true,y_predict))\n",
        "cm=confusion_matrix(y_true,y_predict)\n",
        "f,ax=plt.subplots(figsize=(5,5))\n",
        "sns.heatmap(cm,annot=True,linewidth=0.5,linecolor=\"red\",fmt=\".0f\",ax=ax)\n",
        "plt.xlabel(\"y_pred\")\n",
        "plt.ylabel(\"y_true\")\n",
        "plt.show()"
      ]
    },
    {
      "cell_type": "code",
      "execution_count": null,
      "metadata": {
        "id": "TDcNK92ZuM0n"
      },
      "outputs": [],
      "source": [
        "dt_train=dt_hpo.predict(X_train)\n",
        "dt_test=dt_hpo.predict(X_test)"
      ]
    },
    {
      "cell_type": "code",
      "execution_count": null,
      "metadata": {
        "id": "d3JA45fmuMxI",
        "colab": {
          "base_uri": "https://localhost:8080/",
          "height": 779
        },
        "outputId": "ca39565b-6c7b-40a9-bd8e-c5655423a379"
      },
      "outputs": [
        {
          "output_type": "stream",
          "name": "stdout",
          "text": [
            "Accuracy of ET: 0.9952238805970149\n",
            "Precision of ET: 0.9952444989017988\n",
            "Recall of ET: 0.9952238805970149\n",
            "F1-score of ET: 0.9952267465605916\n",
            "              precision    recall  f1-score   support\n",
            "\n",
            "           0       0.99      0.99      0.99       703\n",
            "           1       0.95      1.00      0.97        18\n",
            "           2       0.99      1.00      1.00       368\n",
            "           3       1.00      1.00      1.00      1100\n",
            "           4       0.99      1.00      0.99      1159\n",
            "           5       1.00      1.00      1.00         2\n",
            "\n",
            "    accuracy                           1.00      3350\n",
            "   macro avg       0.99      1.00      0.99      3350\n",
            "weighted avg       1.00      1.00      1.00      3350\n",
            "\n"
          ]
        },
        {
          "output_type": "display_data",
          "data": {
            "text/plain": [
              "<Figure size 500x500 with 2 Axes>"
            ],
            "image/png": "[encoded data removed]"
          },
          "metadata": {}
        }
      ],
      "source": [
        "et = ExtraTreesClassifier(random_state = 0)\n",
        "et.fit(X_train,y_train) \n",
        "et_score=et.score(X_test,y_test)\n",
        "y_predict=et.predict(X_test)\n",
        "y_true=y_test\n",
        "print('Accuracy of ET: '+ str(et_score))\n",
        "precision,recall,fscore,none= precision_recall_fscore_support(y_true, y_predict, average='weighted') \n",
        "print('Precision of ET: '+(str(precision)))\n",
        "print('Recall of ET: '+(str(recall)))\n",
        "print('F1-score of ET: '+(str(fscore)))\n",
        "print(classification_report(y_true,y_predict))\n",
        "cm=confusion_matrix(y_true,y_predict)\n",
        "f,ax=plt.subplots(figsize=(5,5))\n",
        "sns.heatmap(cm,annot=True,linewidth=0.5,linecolor=\"red\",fmt=\".0f\",ax=ax)\n",
        "plt.xlabel(\"y_pred\")\n",
        "plt.ylabel(\"y_true\")\n",
        "plt.show()"
      ]
    },
    {
      "cell_type": "code",
      "execution_count": null,
      "metadata": {
        "id": "bsuN2XWLuTyk",
        "colab": {
          "base_uri": "https://localhost:8080/"
        },
        "outputId": "64a33c8a-5eb9-4f05-f6db-602bbff0ac1d"
      },
      "outputs": [
        {
          "output_type": "stream",
          "name": "stdout",
          "text": [
            "100%|██████████| 20/20 [00:30<00:00,  1.54s/trial, best loss: -0.9949253731343284]\n",
            "Random Forest: Hyperopt estimated optimum {'criterion': 0, 'max_depth': 28.0, 'max_features': 14.0, 'min_samples_leaf': 2.0, 'min_samples_split': 3.0, 'n_estimators': 69.0}\n"
          ]
        }
      ],
      "source": [
        "from hyperopt import hp, fmin, tpe, STATUS_OK, Trials\n",
        "from sklearn.model_selection import cross_val_score, StratifiedKFold\n",
        "# Define the objective function\n",
        "def objective(params):\n",
        "    params = {\n",
        "        'n_estimators': int(params['n_estimators']), \n",
        "        'max_depth': int(params['max_depth']),\n",
        "        'max_features': int(params['max_features']),\n",
        "        \"min_samples_split\":int(params['min_samples_split']),\n",
        "        \"min_samples_leaf\":int(params['min_samples_leaf']),\n",
        "        \"criterion\":str(params['criterion'])\n",
        "    }\n",
        "    clf = ExtraTreesClassifier( **params)\n",
        "    clf.fit(X_train,y_train)\n",
        "    score=clf.score(X_test,y_test)\n",
        "\n",
        "    return {'loss':-score, 'status': STATUS_OK }\n",
        "# Define the hyperparameter configuration space\n",
        "space = {\n",
        "    'n_estimators': hp.quniform('n_estimators', 10, 200, 1),\n",
        "    'max_depth': hp.quniform('max_depth', 5, 50, 1),\n",
        "    \"max_features\":hp.quniform('max_features', 1, 20, 1),\n",
        "    \"min_samples_split\":hp.quniform('min_samples_split',2,11,1),\n",
        "    \"min_samples_leaf\":hp.quniform('min_samples_leaf',1,11,1),\n",
        "    \"criterion\":hp.choice('criterion',['gini','entropy'])\n",
        "}\n",
        "\n",
        "best = fmin(fn=objective,\n",
        "            space=space,\n",
        "            algo=tpe.suggest,\n",
        "            max_evals=20)\n",
        "print(\"Random Forest: Hyperopt estimated optimum {}\".format(best))"
      ]
    },
    {
      "cell_type": "code",
      "execution_count": null,
      "metadata": {
        "id": "asIZUU9cubbx",
        "colab": {
          "base_uri": "https://localhost:8080/",
          "height": 779
        },
        "outputId": "3503ece9-a5a6-453c-d9a0-13dc103de817"
      },
      "outputs": [
        {
          "output_type": "stream",
          "name": "stdout",
          "text": [
            "Accuracy of ET: 0.9946268656716418\n",
            "Precision of ET: 0.9946987664897761\n",
            "Recall of ET: 0.9946268656716418\n",
            "F1-score of ET: 0.9946443239587425\n",
            "              precision    recall  f1-score   support\n",
            "\n",
            "           0       0.99      0.99      0.99       703\n",
            "           1       0.90      1.00      0.95        18\n",
            "           2       0.99      1.00      0.99       368\n",
            "           3       1.00      0.99      1.00      1100\n",
            "           4       0.99      0.99      0.99      1159\n",
            "           5       1.00      1.00      1.00         2\n",
            "\n",
            "    accuracy                           0.99      3350\n",
            "   macro avg       0.98      1.00      0.99      3350\n",
            "weighted avg       0.99      0.99      0.99      3350\n",
            "\n"
          ]
        },
        {
          "output_type": "display_data",
          "data": {
            "text/plain": [
              "<Figure size 500x500 with 2 Axes>"
            ],
            "image/png": "[encoded data removed]"
          },
          "metadata": {}
        }
      ],
      "source": [
        "et_hpo = ExtraTreesClassifier(n_estimators = 53, min_samples_leaf = 1, max_depth = 31, min_samples_split = 5, max_features = 20, criterion = 'entropy')\n",
        "et_hpo.fit(X_train,y_train) \n",
        "et_score=et_hpo.score(X_test,y_test)\n",
        "y_predict=et_hpo.predict(X_test)\n",
        "y_true=y_test\n",
        "print('Accuracy of ET: '+ str(et_score))\n",
        "precision,recall,fscore,none= precision_recall_fscore_support(y_true, y_predict, average='weighted') \n",
        "print('Precision of ET: '+(str(precision)))\n",
        "print('Recall of ET: '+(str(recall)))\n",
        "print('F1-score of ET: '+(str(fscore)))\n",
        "print(classification_report(y_true,y_predict))\n",
        "cm=confusion_matrix(y_true,y_predict)\n",
        "f,ax=plt.subplots(figsize=(5,5))\n",
        "sns.heatmap(cm,annot=True,linewidth=0.5,linecolor=\"red\",fmt=\".0f\",ax=ax)\n",
        "plt.xlabel(\"y_pred\")\n",
        "plt.ylabel(\"y_true\")\n",
        "plt.show()"
      ]
    },
    {
      "cell_type": "code",
      "execution_count": null,
      "metadata": {
        "id": "FHwQ6dHsufUQ"
      },
      "outputs": [],
      "source": [
        "et_train=et_hpo.predict(X_train)\n",
        "et_test=et_hpo.predict(X_test)"
      ]
    },
    {
      "cell_type": "code",
      "execution_count": null,
      "metadata": {
        "id": "fgQcMA3EujRh",
        "colab": {
          "base_uri": "https://localhost:8080/",
          "height": 206
        },
        "outputId": "695b6b49-a0eb-4a74-87ec-b7ef7bb7013f"
      },
      "outputs": [
        {
          "output_type": "execute_result",
          "data": {
            "text/plain": [
              "   DecisionTree  RandomForest  ExtraTrees  XgBoost\n",
              "0             4             4           4        4\n",
              "1             3             3           3        3\n",
              "2             0             0           0        0\n",
              "3             3             3           3        3\n",
              "4             0             0           0        0"
            ],
            "text/html": [
              "\n",
              "  <div id=\"df-a1c169ba-c323-4e8e-af61-1b0415a26b66\">\n",
              "    <div class=\"colab-df-container\">\n",
              "      <div>\n",
              "<style scoped>\n",
              "    .dataframe tbody tr th:only-of-type {\n",
              "        vertical-align: middle;\n",
              "    }\n",
              "\n",
              "    .dataframe tbody tr th {\n",
              "        vertical-align: top;\n",
              "    }\n",
              "\n",
              "    .dataframe thead th {\n",
              "        text-align: right;\n",
              "    }\n",
              "</style>\n",
              "<table border=\"1\" class=\"dataframe\">\n",
              "  <thead>\n",
              "    <tr style=\"text-align: right;\">\n",
              "      <th></th>\n",
              "      <th>DecisionTree</th>\n",
              "      <th>RandomForest</th>\n",
              "      <th>ExtraTrees</th>\n",
              "      <th>XgBoost</th>\n",
              "    </tr>\n",
              "  </thead>\n",
              "  <tbody>\n",
              "    <tr>\n",
              "      <th>0</th>\n",
              "      <td>4</td>\n",
              "      <td>4</td>\n",
              "      <td>4</td>\n",
              "      <td>4</td>\n",
              "    </tr>\n",
              "    <tr>\n",
              "      <th>1</th>\n",
              "      <td>3</td>\n",
              "      <td>3</td>\n",
              "      <td>3</td>\n",
              "      <td>3</td>\n",
              "    </tr>\n",
              "    <tr>\n",
              "      <th>2</th>\n",
              "      <td>0</td>\n",
              "      <td>0</td>\n",
              "      <td>0</td>\n",
              "      <td>0</td>\n",
              "    </tr>\n",
              "    <tr>\n",
              "      <th>3</th>\n",
              "      <td>3</td>\n",
              "      <td>3</td>\n",
              "      <td>3</td>\n",
              "      <td>3</td>\n",
              "    </tr>\n",
              "    <tr>\n",
              "      <th>4</th>\n",
              "      <td>0</td>\n",
              "      <td>0</td>\n",
              "      <td>0</td>\n",
              "      <td>0</td>\n",
              "    </tr>\n",
              "  </tbody>\n",
              "</table>\n",
              "</div>\n",
              "      <button class=\"colab-df-convert\" onclick=\"convertToInteractive('df-a1c169ba-c323-4e8e-af61-1b0415a26b66')\"\n",
              "              title=\"Convert this dataframe to an interactive table.\"\n",
              "              style=\"display:none;\">\n",
              "        \n",
              "  <svg xmlns=\"http://www.w3.org/2000/svg\" height=\"24px\"viewBox=\"0 0 24 24\"\n",
              "       width=\"24px\">\n",
              "    <path d=\"M0 0h24v24H0V0z\" fill=\"none\"/>\n",
              "    <path d=\"M18.56 5.44l.94 2.06.94-2.06 2.06-.94-2.06-.94-.94-2.06-.94 2.06-2.06.94zm-11 1L8.5 8.5l.94-2.06 2.06-.94-2.06-.94L8.5 2.5l-.94 2.06-2.06.94zm10 10l.94 2.06.94-2.06 2.06-.94-2.06-.94-.94-2.06-.94 2.06-2.06.94z\"/><path d=\"M17.41 7.96l-1.37-1.37c-.4-.4-.92-.59-1.43-.59-.52 0-1.04.2-1.43.59L10.3 9.45l-7.72 7.72c-.78.78-.78 2.05 0 2.83L4 21.41c.39.39.9.59 1.41.59.51 0 1.02-.2 1.41-.59l7.78-7.78 2.81-2.81c.8-.78.8-2.07 0-2.86zM5.41 20L4 18.59l7.72-7.72 1.47 1.35L5.41 20z\"/>\n",
              "  </svg>\n",
              "      </button>\n",
              "      \n",
              "  <style>\n",
              "    .colab-df-container {\n",
              "      display:flex;\n",
              "      flex-wrap:wrap;\n",
              "      gap: 12px;\n",
              "    }\n",
              "\n",
              "    .colab-df-convert {\n",
              "      background-color: #E8F0FE;\n",
              "      border: none;\n",
              "      border-radius: 50%;\n",
              "      cursor: pointer;\n",
              "      display: none;\n",
              "      fill: #1967D2;\n",
              "      height: 32px;\n",
              "      padding: 0 0 0 0;\n",
              "      width: 32px;\n",
              "    }\n",
              "\n",
              "    .colab-df-convert:hover {\n",
              "      background-color: #E2EBFA;\n",
              "      box-shadow: 0px 1px 2px rgba(60, 64, 67, 0.3), 0px 1px 3px 1px rgba(60, 64, 67, 0.15);\n",
              "      fill: #174EA6;\n",
              "    }\n",
              "\n",
              "    [theme=dark] .colab-df-convert {\n",
              "      background-color: #3B4455;\n",
              "      fill: #D2E3FC;\n",
              "    }\n",
              "\n",
              "    [theme=dark] .colab-df-convert:hover {\n",
              "      background-color: #434B5C;\n",
              "      box-shadow: 0px 1px 3px 1px rgba(0, 0, 0, 0.15);\n",
              "      filter: drop-shadow(0px 1px 2px rgba(0, 0, 0, 0.3));\n",
              "      fill: #FFFFFF;\n",
              "    }\n",
              "  </style>\n",
              "\n",
              "      <script>\n",
              "        const buttonEl =\n",
              "          document.querySelector('#df-a1c169ba-c323-4e8e-af61-1b0415a26b66 button.colab-df-convert');\n",
              "        buttonEl.style.display =\n",
              "          google.colab.kernel.accessAllowed ? 'block' : 'none';\n",
              "\n",
              "        async function convertToInteractive(key) {\n",
              "          const element = document.querySelector('#df-a1c169ba-c323-4e8e-af61-1b0415a26b66');\n",
              "          const dataTable =\n",
              "            await google.colab.kernel.invokeFunction('convertToInteractive',\n",
              "                                                     [key], {});\n",
              "          if (!dataTable) return;\n",
              "\n",
              "          const docLinkHtml = 'Like what you see? Visit the ' +\n",
              "            '<a target=\"_blank\" href=https://colab.research.google.com/notebooks/data_table.ipynb>data table notebook</a>'\n",
              "            + ' to learn more about interactive tables.';\n",
              "          element.innerHTML = '';\n",
              "          dataTable['output_type'] = 'display_data';\n",
              "          await google.colab.output.renderOutput(dataTable, element);\n",
              "          const docLink = document.createElement('div');\n",
              "          docLink.innerHTML = docLinkHtml;\n",
              "          element.appendChild(docLink);\n",
              "        }\n",
              "      </script>\n",
              "    </div>\n",
              "  </div>\n",
              "  "
            ]
          },
          "metadata": {},
          "execution_count": 194
        }
      ],
      "source": [
        "base_predictions_train = pd.DataFrame( {\n",
        "    'DecisionTree': dt_train.ravel(),\n",
        "        'RandomForest': rf_train.ravel(),\n",
        "     'ExtraTrees': et_train.ravel(),\n",
        "     'XgBoost': xg_train.ravel(),\n",
        "    })\n",
        "base_predictions_train.head(5)"
      ]
    },
    {
      "cell_type": "code",
      "execution_count": null,
      "metadata": {
        "id": "DT71D2H1umCM"
      },
      "outputs": [],
      "source": [
        "dt_train=dt_train.reshape(-1, 1)\n",
        "et_train=et_train.reshape(-1, 1)\n",
        "rf_train=rf_train.reshape(-1, 1)\n",
        "xg_train=xg_train.reshape(-1, 1)\n",
        "dt_test=dt_test.reshape(-1, 1)\n",
        "et_test=et_test.reshape(-1, 1)\n",
        "rf_test=rf_test.reshape(-1, 1)\n",
        "xg_test=xg_test.reshape(-1, 1)"
      ]
    },
    {
      "cell_type": "code",
      "execution_count": null,
      "metadata": {
        "id": "qyYH6IYwuq3E",
        "colab": {
          "base_uri": "https://localhost:8080/"
        },
        "outputId": "6d6a4c39-6f2e-46a5-a3d9-1982bfcdefc4"
      },
      "outputs": [
        {
          "output_type": "execute_result",
          "data": {
            "text/plain": [
              "(22591, 1)"
            ]
          },
          "metadata": {},
          "execution_count": 196
        }
      ],
      "source": [
        "dt_train.shape"
      ]
    },
    {
      "cell_type": "code",
      "execution_count": null,
      "metadata": {
        "id": "bintMJ3gutBE"
      },
      "outputs": [],
      "source": [
        "x_train = np.concatenate(( dt_train, et_train, rf_train, xg_train), axis=1)\n",
        "x_test = np.concatenate(( dt_test, et_test, rf_test, xg_test), axis=1)"
      ]
    },
    {
      "cell_type": "code",
      "execution_count": null,
      "metadata": {
        "id": "MaWYl37juvpm",
        "colab": {
          "base_uri": "https://localhost:8080/",
          "height": 779
        },
        "outputId": "ddc0eac2-1043-48df-f0d4-8fcbe0000be6"
      },
      "outputs": [
        {
          "output_type": "stream",
          "name": "stdout",
          "text": [
            "Accuracy of Stacking: 0.9955223880597015\n",
            "Precision of Stacking: 0.9955445237051496\n",
            "Recall of Stacking: 0.9955223880597015\n",
            "F1-score of Stacking: 0.9955269012580921\n",
            "              precision    recall  f1-score   support\n",
            "\n",
            "           0       0.99      0.99      0.99       703\n",
            "           1       0.95      1.00      0.97        18\n",
            "           2       0.99      1.00      1.00       368\n",
            "           3       1.00      1.00      1.00      1100\n",
            "           4       0.99      1.00      0.99      1159\n",
            "           5       1.00      1.00      1.00         2\n",
            "\n",
            "    accuracy                           1.00      3350\n",
            "   macro avg       0.99      1.00      0.99      3350\n",
            "weighted avg       1.00      1.00      1.00      3350\n",
            "\n"
          ]
        },
        {
          "output_type": "display_data",
          "data": {
            "text/plain": [
              "<Figure size 500x500 with 2 Axes>"
            ],
            "image/png": "[encoded data removed]"
          },
          "metadata": {}
        }
      ],
      "source": [
        "stk = StackingClassifier(estimators=[('rf',rf),('dt',dt),('et',et)],final_estimator=xg).fit(x_train, y_train)\n",
        "y_predict=stk.predict(x_test)\n",
        "y_true=y_test\n",
        "stk_score=accuracy_score(y_true,y_predict)\n",
        "print('Accuracy of Stacking: '+ str(stk_score))\n",
        "precision,recall,fscore,none= precision_recall_fscore_support(y_true, y_predict, average='weighted') \n",
        "print('Precision of Stacking: '+(str(precision)))\n",
        "print('Recall of Stacking: '+(str(recall)))\n",
        "print('F1-score of Stacking: '+(str(fscore)))\n",
        "print(classification_report(y_true,y_predict))\n",
        "cm=confusion_matrix(y_true,y_predict)\n",
        "f,ax=plt.subplots(figsize=(5,5))\n",
        "sns.heatmap(cm,annot=True,linewidth=0.5,linecolor=\"red\",fmt=\".0f\",ax=ax)\n",
        "plt.xlabel(\"y_pred\")\n",
        "plt.ylabel(\"y_true\")\n",
        "plt.show()"
      ]
    },
    {
      "cell_type": "code",
      "execution_count": null,
      "metadata": {
        "id": "qqjNIkNBwd74"
      },
      "outputs": [],
      "source": [
        "#(new_output).all()"
      ]
    },
    {
      "cell_type": "code",
      "execution_count": null,
      "metadata": {
        "id": "DG4FrW2ruzUP",
        "colab": {
          "base_uri": "https://localhost:8080/"
        },
        "outputId": "acca28db-1cdd-4a02-f597-89e447e5e50c"
      },
      "outputs": [
        {
          "output_type": "stream",
          "name": "stdout",
          "text": [
            "100%|██████████| 20/20 [00:25<00:00,  1.27s/trial, best loss: -0.9955223880597015]\n",
            "XGBoost: Hyperopt estimated optimum {'learning_rate': 0.22858655831505642, 'max_depth': 75.0, 'n_estimators': 75.0}\n"
          ]
        }
      ],
      "source": [
        "from hyperopt import hp, fmin, tpe, STATUS_OK, Trials\n",
        "from sklearn.model_selection import cross_val_score, StratifiedKFold\n",
        "def objective(params):\n",
        "    params = {\n",
        "        'n_estimators': int(params['n_estimators']), \n",
        "        'max_depth': int(params['max_depth']),\n",
        "        'learning_rate':  abs(float(params['learning_rate'])),\n",
        "\n",
        "    }\n",
        "    clf = xgb.XGBClassifier( **params)\n",
        "    clf.fit(x_train, y_train)\n",
        "    y_pred = clf.predict(x_test)\n",
        "    score = accuracy_score(y_test, y_pred)\n",
        "\n",
        "    return {'loss':-score, 'status': STATUS_OK }\n",
        "\n",
        "space = {\n",
        "    'n_estimators': hp.quniform('n_estimators', 10, 100, 5),\n",
        "    'max_depth': hp.quniform('max_depth', 4, 100, 1),\n",
        "    'learning_rate': hp.normal('learning_rate', 0.01, 0.9),\n",
        "}\n",
        "\n",
        "best = fmin(fn=objective,\n",
        "            space=space,\n",
        "            algo=tpe.suggest,\n",
        "            max_evals=20)\n",
        "print(\"XGBoost: Hyperopt estimated optimum {}\".format(best))"
      ]
    },
    {
      "cell_type": "code",
      "source": [],
      "metadata": {
        "id": "icnMTHuNHYbQ"
      },
      "execution_count": null,
      "outputs": []
    },
    {
      "cell_type": "code",
      "execution_count": null,
      "metadata": {
        "id": "mLPaipQeu5Q4",
        "colab": {
          "base_uri": "https://localhost:8080/",
          "height": 779
        },
        "outputId": "39c38cb0-4a41-421d-ce9d-739f297616a4"
      },
      "outputs": [
        {
          "output_type": "stream",
          "name": "stdout",
          "text": [
            "Accuracy of Stacking: 0.9949253731343284\n",
            "Precision of Stacking: 0.9950563034887854\n",
            "Recall of Stackingt: 0.9949253731343284\n",
            "F1-score of Stacking: 0.9949573117675582\n",
            "              precision    recall  f1-score   support\n",
            "\n",
            "           0       0.99      0.99      0.99       703\n",
            "           1       0.86      1.00      0.92        18\n",
            "           2       0.99      1.00      1.00       368\n",
            "           3       1.00      1.00      1.00      1100\n",
            "           4       0.99      1.00      0.99      1159\n",
            "           5       1.00      1.00      1.00         2\n",
            "\n",
            "    accuracy                           0.99      3350\n",
            "   macro avg       0.97      1.00      0.98      3350\n",
            "weighted avg       1.00      0.99      0.99      3350\n",
            "\n"
          ]
        },
        {
          "output_type": "display_data",
          "data": {
            "text/plain": [
              "<Figure size 500x500 with 2 Axes>"
            ],
            "image/png": "[encoded data removed]"
          },
          "metadata": {}
        }
      ],
      "source": [
        "xg = xgb.XGBClassifier(learning_rate= 0.19229249758051492, n_estimators = 30, max_depth = 36)\n",
        "xg.fit(x_train,y_train)\n",
        "xg_score=xg.score(x_test,y_test)\n",
        "y_predict=xg.predict(x_test)\n",
        "y_true=y_test\n",
        "print('Accuracy of Stacking: '+ str(xg_score))\n",
        "precision,recall,fscore,none= precision_recall_fscore_support(y_true, y_predict, average='weighted') \n",
        "print('Precision of Stacking: '+(str(precision)))\n",
        "print('Recall of Stackingt: '+(str(recall)))\n",
        "print('F1-score of Stacking: '+(str(fscore)))\n",
        "print(classification_report(y_true,y_predict))\n",
        "cm=confusion_matrix(y_true,y_predict)\n",
        "f,ax=plt.subplots(figsize=(5,5))\n",
        "sns.heatmap(cm,annot=True,linewidth=0.5,linecolor=\"red\",fmt=\".0f\",ax=ax)\n",
        "plt.xlabel(\"y_pred\")\n",
        "plt.ylabel(\"y_true\")\n",
        "plt.show()"
      ]
    },
    {
      "cell_type": "code",
      "execution_count": null,
      "metadata": {
        "id": "M2RaQ3nlrpyU",
        "colab": {
          "base_uri": "https://localhost:8080/"
        },
        "outputId": "a2a1476c-68c8-47fa-e232-ded0548fca0b"
      },
      "outputs": [
        {
          "output_type": "stream",
          "name": "stdout",
          "text": [
            "\n",
            "ACCURACY OF THE MODEL:  99.49253731343283\n"
          ]
        }
      ],
      "source": [
        "from sklearn import metrics  \n",
        "print()\n",
        "\n",
        "print(\"ACCURACY OF THE MODEL: \", metrics.accuracy_score(y_true,y_predict)*100)"
      ]
    },
    {
      "cell_type": "code",
      "execution_count": null,
      "metadata": {
        "id": "T_sv-CZNsswu"
      },
      "outputs": [],
      "source": [
        "new_input = x_train"
      ]
    },
    {
      "cell_type": "code",
      "execution_count": null,
      "metadata": {
        "id": "rFfKBld5uD3Y",
        "colab": {
          "base_uri": "https://localhost:8080/"
        },
        "outputId": "d11fd0b6-439d-4537-dd8c-e68a2f891a76"
      },
      "outputs": [
        {
          "output_type": "execute_result",
          "data": {
            "text/plain": [
              "array([4, 3, 0, ..., 5, 5, 5])"
            ]
          },
          "metadata": {},
          "execution_count": 204
        }
      ],
      "source": [
        "new_output = stk.predict(new_input)\n",
        "new_output"
      ]
    },
    {
      "cell_type": "code",
      "execution_count": null,
      "metadata": {
        "id": "3_zNT4oDva5r",
        "colab": {
          "base_uri": "https://localhost:8080/"
        },
        "outputId": "60e9a980-30b0-43f8-a40c-e21f576558cc"
      },
      "outputs": [
        {
          "output_type": "stream",
          "name": "stdout",
          "text": [
            "DOS SLOWLORIS\n"
          ]
        }
      ],
      "source": [
        "new_output\n",
        "if new_output[0]==[0]:\n",
        "    print('BENIGN')\n",
        "elif new_output[0] == [1]:\n",
        "    print('DOS GOLDENEYE')\n",
        "elif new_output[0] == [2]:\n",
        "    print('DOS HULK')\n",
        "elif new_output[0] == [3]:\n",
        "    print('DOS SLOWHTTPTEST')\n",
        "else:\n",
        "    print('DOS SLOWLORIS')"
      ]
    },
    {
      "cell_type": "code",
      "execution_count": null,
      "metadata": {
        "id": "_NTXxsd_rUI-"
      },
      "outputs": [],
      "source": [
        "# new_input = x_test.values"
      ]
    },
    {
      "cell_type": "code",
      "execution_count": null,
      "metadata": {
        "id": "1Lvt81sku88I"
      },
      "outputs": [],
      "source": [
        " df=pd.read_csv('/content/drive/MyDrive/Intrusion-Detection-System-Using-Machine-Learning-main/data/CICIDS2017_sample_km.csv')"
      ]
    },
    {
      "cell_type": "code",
      "execution_count": null,
      "metadata": {
        "id": "u5lh6z4yvDR-",
        "colab": {
          "base_uri": "https://localhost:8080/"
        },
        "outputId": "fcaa43dc-dc2a-4afd-a7e2-6fd7553a75c6"
      },
      "outputs": [
        {
          "output_type": "execute_result",
          "data": {
            "text/plain": [
              "4    5796\n",
              "3    5499\n",
              "0    3512\n",
              "2    1840\n",
              "1      90\n",
              "5      11\n",
              "Name: Label, dtype: int64"
            ]
          },
          "metadata": {},
          "execution_count": 208
        }
      ],
      "source": [
        " df.Label.value_counts()"
      ]
    },
    {
      "cell_type": "code",
      "execution_count": null,
      "metadata": {
        "id": "GUSicxOvvGmU"
      },
      "outputs": [],
      "source": [
        " df1 = df[df['Label'] != 4]\n",
        " df1['Label'][df1['Label'] > 0] = 1\n",
        " df1.to_csv('/content/drive/MyDrive/Intrusion-Detection-System-Using-Machine-Learning-main/data/CICIDS2017_sample_km_without_portscan.csv',index=0)"
      ]
    },
    {
      "cell_type": "code",
      "execution_count": null,
      "metadata": {
        "id": "dbbFfR-OvKRU"
      },
      "outputs": [],
      "source": [
        " df2 = df[df['Label'] == 4]\n",
        " df2['Label'][df2['Label'] == 4] = 1\n",
        " df2.to_csv('/content/drive/MyDrive/Intrusion-Detection-System-Using-Machine-Learning-main/data/CICIDS2017_sample_km_portscan.csv',index=0)"
      ]
    },
    {
      "cell_type": "code",
      "execution_count": null,
      "metadata": {
        "id": "hNEJovCuvMp5"
      },
      "outputs": [],
      "source": [
        "df1 = pd.read_csv('/content/drive/MyDrive/Intrusion-Detection-System-Using-Machine-Learning-main/data/CICIDS2017_sample_km_without_portscan.csv')\n",
        "df2 = pd.read_csv('/content/drive/MyDrive/Intrusion-Detection-System-Using-Machine-Learning-main/data/CICIDS2017_sample_km_portscan.csv')"
      ]
    },
    {
      "cell_type": "code",
      "execution_count": null,
      "metadata": {
        "id": "634khxnFvQsc"
      },
      "outputs": [],
      "source": [
        "features = df1.drop(['Label'],axis=1).dtypes[df1.dtypes != 'object'].index\n",
        "df1[features] = df1[features].apply(\n",
        "    lambda x: (x - x.mean()) / (x.std()))\n",
        "df2[features] = df2[features].apply(\n",
        "    lambda x: (x - x.mean()) / (x.std()))\n",
        "df1 = df1.fillna(0)\n",
        "df2 = df2.fillna(0)"
      ]
    },
    {
      "cell_type": "code",
      "execution_count": null,
      "metadata": {
        "id": "vqPSqWZYvWGV",
        "colab": {
          "base_uri": "https://localhost:8080/"
        },
        "outputId": "7ab4b706-5b65-4941-825c-50dcc4ce7d3c"
      },
      "outputs": [
        {
          "output_type": "execute_result",
          "data": {
            "text/plain": [
              "1    7440\n",
              "0    3512\n",
              "Name: Label, dtype: int64"
            ]
          },
          "metadata": {},
          "execution_count": 213
        }
      ],
      "source": [
        "df1.Label.value_counts()"
      ]
    },
    {
      "cell_type": "code",
      "execution_count": null,
      "metadata": {
        "id": "aspNhWbDvZp8",
        "colab": {
          "base_uri": "https://localhost:8080/"
        },
        "outputId": "0d1f9004-4174-478e-f7e9-8b024d34b37e"
      },
      "outputs": [
        {
          "output_type": "execute_result",
          "data": {
            "text/plain": [
              "1    5796\n",
              "Name: Label, dtype: int64"
            ]
          },
          "metadata": {},
          "execution_count": 214
        }
      ],
      "source": [
        "df2.Label.value_counts()"
      ]
    },
    {
      "cell_type": "code",
      "execution_count": null,
      "metadata": {
        "id": "av5pgPCNvaeB"
      },
      "outputs": [],
      "source": [
        "df2p=df1[df1['Label']==0]\n",
        "df2pp=df2p.sample(n=None, frac=5796/7435, replace=False, weights=None, random_state=None, axis=0)\n",
        "df2=pd.concat([df2, df2pp])"
      ]
    },
    {
      "cell_type": "code",
      "execution_count": null,
      "metadata": {
        "id": "FYH5iSqFvcuu",
        "colab": {
          "base_uri": "https://localhost:8080/"
        },
        "outputId": "22b107c2-94c8-40b1-d85f-308b13ead316"
      },
      "outputs": [
        {
          "output_type": "execute_result",
          "data": {
            "text/plain": [
              "1    5796\n",
              "0    2738\n",
              "Name: Label, dtype: int64"
            ]
          },
          "metadata": {},
          "execution_count": 216
        }
      ],
      "source": [
        "df2.Label.value_counts()"
      ]
    },
    {
      "cell_type": "code",
      "execution_count": null,
      "metadata": {
        "id": "TNrnyEWqvfXD"
      },
      "outputs": [],
      "source": [
        "df = df1.append(df2)"
      ]
    },
    {
      "cell_type": "code",
      "execution_count": null,
      "metadata": {
        "id": "t8mMjEZ5vknJ",
        "colab": {
          "base_uri": "https://localhost:8080/"
        },
        "outputId": "83857fb5-c5b0-4f77-894d-0f408de5fee5"
      },
      "outputs": [
        {
          "output_type": "execute_result",
          "data": {
            "text/plain": [
              "1    13236\n",
              "0     6250\n",
              "dtype: int64"
            ]
          },
          "metadata": {},
          "execution_count": 218
        }
      ],
      "source": [
        "X = df.drop(['Label'],axis=1) .values\n",
        "y = df.iloc[:, -1].values.reshape(-1,1)\n",
        "y=y.astype('int')\n",
        "y=np.ravel(y)\n",
        "pd.Series(y).value_counts()"
      ]
    },
    {
      "cell_type": "code",
      "execution_count": null,
      "metadata": {
        "id": "b7AzXyX3vmog"
      },
      "outputs": [],
      "source": [
        "from sklearn.feature_selection import mutual_info_classif\n",
        "importances = mutual_info_classif(X, y)"
      ]
    },
    {
      "cell_type": "code",
      "execution_count": null,
      "metadata": {
        "id": "nA8N8hKqvo6U"
      },
      "outputs": [],
      "source": [
        "f_list = sorted(zip(map(lambda x: round(x, 4), importances), features), reverse=True)\n",
        "Sum = 0\n",
        "fs = []\n",
        "for i in range(0, len(f_list)):\n",
        "    Sum = Sum + f_list[i][0]\n",
        "    fs.append(f_list[i][1])"
      ]
    },
    {
      "cell_type": "code",
      "execution_count": null,
      "metadata": {
        "id": "sPCN_Mmbvrvx"
      },
      "outputs": [],
      "source": [
        "f_list2 = sorted(zip(map(lambda x: round(x, 4), importances/Sum), features), reverse=True)\n",
        "Sum2 = 0\n",
        "fs = []\n",
        "for i in range(0, len(f_list2)):\n",
        "    Sum2 = Sum2 + f_list2[i][0]\n",
        "    fs.append(f_list2[i][1])\n",
        "    if Sum2>=0.9:\n",
        "        break  "
      ]
    },
    {
      "cell_type": "code",
      "execution_count": null,
      "metadata": {
        "id": "mx_c1qnLvubw"
      },
      "outputs": [],
      "source": [
        "X_fs = df[fs].values"
      ]
    },
    {
      "cell_type": "code",
      "execution_count": null,
      "metadata": {
        "id": "EcO3UdCovwfB",
        "colab": {
          "base_uri": "https://localhost:8080/"
        },
        "outputId": "447b7ba8-39b7-4f89-f62b-778bfd9a282f"
      },
      "outputs": [
        {
          "output_type": "execute_result",
          "data": {
            "text/plain": [
              "(19486, 54)"
            ]
          },
          "metadata": {},
          "execution_count": 223
        }
      ],
      "source": [
        "X_fs.shape"
      ]
    },
    {
      "cell_type": "code",
      "execution_count": null,
      "metadata": {
        "id": "stSHZaYMv0Dg",
        "colab": {
          "base_uri": "https://localhost:8080/"
        },
        "outputId": "5c69c0f2-f70f-4c8c-e1f3-11c1d726077d"
      },
      "outputs": [
        {
          "output_type": "execute_result",
          "data": {
            "text/plain": [
              "array([[-0.24840843, -0.47279798, -0.93157094, ..., -1.61714723,\n",
              "         0.92738315, -0.43035586],\n",
              "       [-0.24840843, -0.47617537, -0.93157094, ..., -1.61714723,\n",
              "         0.92738315, -0.43035586],\n",
              "       [-0.24840843, -0.47424543, -0.93157094, ..., -1.61714723,\n",
              "         0.92738315, -0.43035586],\n",
              "       ...,\n",
              "       [-0.24840843, -0.42406712, -0.93157094, ...,  0.08512392,\n",
              "         0.92738315, -0.43035586],\n",
              "       [ 3.45222154, -0.49113237, -0.92344813, ...,  0.08512392,\n",
              "        -0.59971056, -0.43035586],\n",
              "       [-0.24840843, -0.44529641, -0.93157094, ..., -1.61714723,\n",
              "         0.92738315, -0.37910521]])"
            ]
          },
          "metadata": {},
          "execution_count": 224
        }
      ],
      "source": [
        "X_fs"
      ]
    },
    {
      "cell_type": "code",
      "execution_count": null,
      "metadata": {
        "id": "Cvmej4Npv2XO"
      },
      "outputs": [],
      "source": [
        "from FCBF_module import FCBF, FCBFK, FCBFiP, get_i\n",
        "fcbf = FCBFK(k = 20)\n",
        "#fcbf.fit(X_fs, y)"
      ]
    },
    {
      "cell_type": "code",
      "execution_count": null,
      "metadata": {
        "id": "bYzlPmV2v5Tw"
      },
      "outputs": [],
      "source": [
        "X_fss = fcbf.fit_transform(X_fs,y)"
      ]
    },
    {
      "cell_type": "code",
      "execution_count": null,
      "metadata": {
        "id": "e2VMdb_Xv7vc",
        "colab": {
          "base_uri": "https://localhost:8080/"
        },
        "outputId": "58a6e483-ded8-4817-d020-1e7b9bd0dd74"
      },
      "outputs": [
        {
          "output_type": "execute_result",
          "data": {
            "text/plain": [
              "(19486, 20)"
            ]
          },
          "metadata": {},
          "execution_count": 227
        }
      ],
      "source": [
        "X_fss.shape"
      ]
    },
    {
      "cell_type": "code",
      "execution_count": null,
      "metadata": {
        "id": "FE1ppdjPv-cn",
        "colab": {
          "base_uri": "https://localhost:8080/"
        },
        "outputId": "79a6e2d2-e2a9-4d7d-c875-a33848bad576"
      },
      "outputs": [
        {
          "output_type": "execute_result",
          "data": {
            "text/plain": [
              "array([[-0.24840843, -0.93157094,  0.2853731 , ..., -0.22313351,\n",
              "        -0.04804264, -0.04804264],\n",
              "       [-0.24840843, -0.93157094,  0.23307759, ..., -0.22313351,\n",
              "        -0.04804264, -0.04804264],\n",
              "       [-0.24840843, -0.93157094,  0.30280493, ..., -0.22313351,\n",
              "        -0.04804264, -0.04804264],\n",
              "       ...,\n",
              "       [-0.24840843, -0.93157094,  0.44225962, ..., -0.22313351,\n",
              "        -0.0631397 , -0.0631397 ],\n",
              "       [ 3.45222154, -0.92344813, -0.28987749, ..., -0.22298757,\n",
              "        -0.0631397 , -0.0631397 ],\n",
              "       [-0.24840843, -0.93157094,  0.54685064, ..., -0.22313351,\n",
              "        -0.04804264, -0.04804264]])"
            ]
          },
          "metadata": {},
          "execution_count": 228
        }
      ],
      "source": [
        "X_fss"
      ]
    },
    {
      "cell_type": "code",
      "execution_count": null,
      "metadata": {
        "id": "UCFIwOR2wAXS"
      },
      "outputs": [],
      "source": [
        "from sklearn.decomposition import KernelPCA\n",
        "kpca = KernelPCA(n_components = 4, kernel = 'rbf')\n",
        "kpca.fit(X_fss, y)\n",
        "X_kpca = kpca.transform(X_fss)\n"
      ]
    },
    {
      "cell_type": "code",
      "execution_count": null,
      "metadata": {
        "id": "ZNxrlHSowDY8"
      },
      "outputs": [],
      "source": [
        "X_train = X_kpca[:len(df1)]\n",
        "y_train = y[:len(df1)]\n",
        "X_test = X_kpca[len(df1):]\n",
        "y_test = y[len(df1):]"
      ]
    },
    {
      "cell_type": "code",
      "execution_count": null,
      "metadata": {
        "id": "rH6rOiGAwHsV",
        "colab": {
          "base_uri": "https://localhost:8080/"
        },
        "outputId": "7fad6814-77f9-46e9-d771-263960038983"
      },
      "outputs": [
        {
          "output_type": "execute_result",
          "data": {
            "text/plain": [
              "1    7440\n",
              "0    3512\n",
              "dtype: int64"
            ]
          },
          "metadata": {},
          "execution_count": 231
        }
      ],
      "source": [
        "pd.Series(y_train).value_counts()\n"
      ]
    },
    {
      "cell_type": "code",
      "execution_count": null,
      "metadata": {
        "id": "CYuDvgAfwM49"
      },
      "outputs": [],
      "source": [
        "from imblearn.over_sampling import SMOTE\n",
        "smote=SMOTE(n_jobs=-1,sampling_strategy={0:11389})\n",
        "X_train, y_train = smote.fit_resample(X_train, y_train)"
      ]
    },
    {
      "cell_type": "code",
      "execution_count": null,
      "metadata": {
        "id": "PHFUg5a7wWte",
        "colab": {
          "base_uri": "https://localhost:8080/"
        },
        "outputId": "fd7a95d3-c972-47ed-917e-8ad9add54ac2"
      },
      "outputs": [
        {
          "output_type": "execute_result",
          "data": {
            "text/plain": [
              "0    11389\n",
              "1     7440\n",
              "dtype: int64"
            ]
          },
          "metadata": {},
          "execution_count": 233
        }
      ],
      "source": [
        "pd.Series(y_train).value_counts()"
      ]
    },
    {
      "cell_type": "code",
      "execution_count": null,
      "metadata": {
        "id": "j0DHqozpwY8w",
        "colab": {
          "base_uri": "https://localhost:8080/"
        },
        "outputId": "aac5d86f-7a0f-4092-eb09-06f88f733751"
      },
      "outputs": [
        {
          "output_type": "execute_result",
          "data": {
            "text/plain": [
              "1    5796\n",
              "0    2738\n",
              "dtype: int64"
            ]
          },
          "metadata": {},
          "execution_count": 234
        }
      ],
      "source": [
        "pd.Series(y_test).value_counts()"
      ]
    },
    {
      "cell_type": "code",
      "execution_count": null,
      "metadata": {
        "id": "Rpp0eLcVwa66"
      },
      "outputs": [],
      "source": [
        "from sklearn.cluster import KMeans\n",
        "from sklearn.cluster import DBSCAN,MeanShift\n",
        "from sklearn.cluster import SpectralClustering,AgglomerativeClustering,AffinityPropagation,Birch,MiniBatchKMeans,MeanShift \n",
        "from sklearn.mixture import GaussianMixture, BayesianGaussianMixture\n",
        "from sklearn.metrics import classification_report\n",
        "from sklearn import metrics"
      ]
    },
    {
      "cell_type": "code",
      "execution_count": null,
      "metadata": {
        "id": "aT0OqHy5weKQ"
      },
      "outputs": [],
      "source": [
        "def CL_kmeans(X_train, X_test, y_train, y_test,n,b=100):\n",
        "    km_cluster = MiniBatchKMeans(n_clusters=n,batch_size=b)\n",
        "    result = km_cluster.fit_predict(X_train)\n",
        "    result2 = km_cluster.predict(X_test)\n",
        "\n",
        "    count=0\n",
        "    a=np.zeros(n)\n",
        "    b=np.zeros(n)\n",
        "    for v in range(0,n):\n",
        "        for i in range(0,len(y_train)):\n",
        "            if result[i]==v:\n",
        "                if y_train[i]==1:\n",
        "                    a[v]=a[v]+1\n",
        "                else:\n",
        "                    b[v]=b[v]+1\n",
        "    list1=[]\n",
        "    list2=[]\n",
        "    for v in range(0,n):\n",
        "        if a[v]<=b[v]:\n",
        "            list1.append(v)\n",
        "        else: \n",
        "            list2.append(v)\n",
        "    for v in range(0,len(y_test)):\n",
        "        if result2[v] in list1:\n",
        "            result2[v]=0\n",
        "        elif result2[v] in list2:\n",
        "            result2[v]=1\n",
        "        else:\n",
        "            print(\"-1\")\n",
        "    print(classification_report(y_test, result2))\n",
        "    cm=confusion_matrix(y_test,result2)\n",
        "    acc=metrics.accuracy_score(y_test,result2)\n",
        "    print(str(acc))\n",
        "    print(cm)"
      ]
    },
    {
      "cell_type": "code",
      "execution_count": null,
      "metadata": {
        "id": "YYo3VYwzwjKT",
        "colab": {
          "base_uri": "https://localhost:8080/"
        },
        "outputId": "a8948190-76fb-48a1-e7cd-5384d7ae16a7"
      },
      "outputs": [
        {
          "output_type": "stream",
          "name": "stdout",
          "text": [
            "              precision    recall  f1-score   support\n",
            "\n",
            "           0       0.47      0.97      0.63      2738\n",
            "           1       0.97      0.48      0.64      5796\n",
            "\n",
            "    accuracy                           0.64      8534\n",
            "   macro avg       0.72      0.73      0.64      8534\n",
            "weighted avg       0.81      0.64      0.64      8534\n",
            "\n",
            "0.637098664166862\n",
            "[[2662   76]\n",
            " [3021 2775]]\n"
          ]
        }
      ],
      "source": [
        "CL_kmeans(X_train, X_test, y_train, y_test, 8)"
      ]
    },
    {
      "cell_type": "code",
      "execution_count": null,
      "metadata": {
        "id": "pPK-zhyi0yZS",
        "colab": {
          "base_uri": "https://localhost:8080/"
        },
        "outputId": "81f1224a-fcc2-4dab-a84d-3c84753eb006"
      },
      "outputs": [
        {
          "output_type": "stream",
          "name": "stdout",
          "text": [
            "Looking in indexes: https://pypi.org/simple, https://us-python.pkg.dev/colab-wheels/public/simple/\n",
            "Collecting git+https://github.com/scikit-optimize/scikit-optimize.git\n",
            "  Cloning https://github.com/scikit-optimize/scikit-optimize.git to /tmp/pip-req-build-_iwf1uk1\n",
            "  Running command git clone --filter=blob:none --quiet https://github.com/scikit-optimize/scikit-optimize.git /tmp/pip-req-build-_iwf1uk1\n",
            "  Resolved https://github.com/scikit-optimize/scikit-optimize.git to commit a2369ddbc332d16d8ff173b12404b03fea472492\n",
            "  Installing build dependencies ... \u001b[?25l\u001b[?25hdone\n",
            "  Getting requirements to build wheel ... \u001b[?25l\u001b[?25hdone\n",
            "  Preparing metadata (pyproject.toml) ... \u001b[?25l\u001b[?25hdone\n",
            "Requirement already satisfied: joblib>=0.11 in /usr/local/lib/python3.10/dist-packages (from scikit-optimize==0.9.0) (1.2.0)\n",
            "Requirement already satisfied: pyaml>=16.9 in /usr/local/lib/python3.10/dist-packages (from scikit-optimize==0.9.0) (23.5.9)\n",
            "Requirement already satisfied: numpy>=1.13.3 in /usr/local/lib/python3.10/dist-packages (from scikit-optimize==0.9.0) (1.22.4)\n",
            "Requirement already satisfied: scipy>=0.19.1 in /usr/local/lib/python3.10/dist-packages (from scikit-optimize==0.9.0) (1.10.1)\n",
            "Requirement already satisfied: scikit-learn>=0.20.0 in /usr/local/lib/python3.10/dist-packages (from scikit-optimize==0.9.0) (1.2.2)\n",
            "Requirement already satisfied: PyYAML in /usr/local/lib/python3.10/dist-packages (from pyaml>=16.9->scikit-optimize==0.9.0) (6.0)\n",
            "Requirement already satisfied: threadpoolctl>=2.0.0 in /usr/local/lib/python3.10/dist-packages (from scikit-learn>=0.20.0->scikit-optimize==0.9.0) (3.1.0)\n"
          ]
        }
      ],
      "source": [
        "!pip install git+https://github.com/scikit-optimize/scikit-optimize.git"
      ]
    },
    {
      "cell_type": "code",
      "execution_count": null,
      "metadata": {
        "id": "LIOC7YQ8wmP8",
        "colab": {
          "base_uri": "https://localhost:8080/"
        },
        "outputId": "f846d535-88d6-4f4f-e4c7-1d71215f5374"
      },
      "outputs": [
        {
          "output_type": "stream",
          "name": "stdout",
          "text": [
            "30 0.7072884930864776\n",
            "43 0.31251464729318024\n",
            "43 0.6386219826576048\n",
            "43 0.711506913522381\n",
            "32 0.5332786501054605\n",
            "20 0.5427700960862433\n",
            "16 0.5324584016873681\n",
            "5 0.8391141317084603\n",
            "15 0.5318725099601593\n",
            "25 0.37790016404968363\n",
            "5 0.824935551910007\n",
            "5 0.6399109444574642\n",
            "4 0.8247011952191236\n",
            "2 0.7083430981954535\n",
            "2 0.8112256854933209\n",
            "2 0.7078743848136865\n",
            "2 0.8106397937661121\n",
            "2 0.7091633466135459\n",
            "2 0.7098664166861964\n",
            "7 0.6245605812045933\n",
            "44.400559425354004\n",
            "Best score=0.8391\n",
            "Best parameters: n_clusters=5\n"
          ]
        }
      ],
      "source": [
        "from skopt.space import Real, Integer\n",
        "from skopt.utils import use_named_args\n",
        "from sklearn import metrics\n",
        "\n",
        "space  = [Integer(2, 50, name='n_clusters')]\n",
        "@use_named_args(space)\n",
        "def objective(**params):\n",
        "    km_cluster = MiniBatchKMeans(batch_size=100, **params)\n",
        "    n=params['n_clusters']\n",
        "    \n",
        "    result = km_cluster.fit_predict(X_train)\n",
        "    result2 = km_cluster.predict(X_test)\n",
        "\n",
        "    count=0\n",
        "    a=np.zeros(n)\n",
        "    b=np.zeros(n)\n",
        "    for v in range(0,n):\n",
        "        for i in range(0,len(y_train)):\n",
        "            if result[i]==v:\n",
        "                if y_train[i]==1:\n",
        "                    a[v]=a[v]+1\n",
        "                else:\n",
        "                    b[v]=b[v]+1\n",
        "    list1=[]\n",
        "    list2=[]\n",
        "    for v in range(0,n):\n",
        "        if a[v]<=b[v]:\n",
        "            list1.append(v)\n",
        "        else: \n",
        "            list2.append(v)\n",
        "    for v in range(0,len(y_test)):\n",
        "        if result2[v] in list1:\n",
        "            result2[v]=0\n",
        "        elif result2[v] in list2:\n",
        "            result2[v]=1\n",
        "        else:\n",
        "            print(\"-1\")\n",
        "    cm=metrics.accuracy_score(y_test,result2)\n",
        "    print(str(n)+\" \"+str(cm))\n",
        "    return (1-cm)\n",
        "from skopt import gp_minimize\n",
        "import time\n",
        "t1=time.time()\n",
        "res_gp = gp_minimize(objective, space, n_calls=20, random_state=0)\n",
        "t2=time.time()\n",
        "print(t2-t1)\n",
        "print(\"Best score=%.4f\" % (1-res_gp.fun))\n",
        "print(\"\"\"Best parameters: n_clusters=%d\"\"\" % (res_gp.x[0]))"
      ]
    },
    {
      "cell_type": "code",
      "execution_count": null,
      "metadata": {
        "id": "Tu9Dq7MAws69",
        "colab": {
          "base_uri": "https://localhost:8080/"
        },
        "outputId": "75821b95-8671-444a-c955-5b86098f400a"
      },
      "outputs": [
        {
          "output_type": "stream",
          "name": "stdout",
          "text": [
            "45 0.3016170611670963\n",
            "34 0.7153737989219592\n",
            "15 0.5247246308882119\n",
            "16 0.8449730489805484\n",
            "25 0.4998828216545582\n",
            "4 0.824935551910007\n",
            "31 0.4963674712913054\n",
            "17 0.64893367705648\n",
            "44 0.49484415280056243\n",
            "43 0.5043355987813453\n",
            "16 0.5255448793063042\n",
            "18 0.7275603468479025\n",
            "27 0.521209280524959\n",
            "11 0.5064448089992969\n",
            "23 0.5278884462151394\n",
            "27 0.48242324818373566\n",
            "22 0.7321303023201312\n",
            "14 0.8382938832903679\n",
            "10 0.630653855167565\n",
            "45 0.5208577454886337\n",
            "100%|██████████| 20/20 [00:52<00:00,  2.63s/trial, best loss: 0.15502695101945163]\n",
            "Random Forest: Hyperopt estimated optimum {'n_clusters': 16.0}\n"
          ]
        }
      ],
      "source": [
        "#Hyperparameter optimization by BO-TPE\n",
        "from hyperopt import hp, fmin, tpe, STATUS_OK, Trials\n",
        "from sklearn.model_selection import cross_val_score, StratifiedKFold\n",
        "from sklearn.cluster import MiniBatchKMeans\n",
        "from sklearn import metrics\n",
        "\n",
        "def objective(params):\n",
        "    params = {\n",
        "        'n_clusters': int(params['n_clusters']), \n",
        "    }\n",
        "    km_cluster = MiniBatchKMeans(batch_size=100, **params)\n",
        "    n=params['n_clusters']\n",
        "    \n",
        "    result = km_cluster.fit_predict(X_train)\n",
        "    result2 = km_cluster.predict(X_test)\n",
        "\n",
        "    count=0\n",
        "    a=np.zeros(n)\n",
        "    b=np.zeros(n)\n",
        "    for v in range(0,n):\n",
        "        for i in range(0,len(y_train)):\n",
        "            if result[i]==v:\n",
        "                if y_train[i]==1:\n",
        "                    a[v]=a[v]+1\n",
        "                else:\n",
        "                    b[v]=b[v]+1\n",
        "    list1=[]\n",
        "    list2=[]\n",
        "    for v in range(0,n):\n",
        "        if a[v]<=b[v]:\n",
        "            list1.append(v)\n",
        "        else: \n",
        "            list2.append(v)\n",
        "    for v in range(0,len(y_test)):\n",
        "        if result2[v] in list1:\n",
        "            result2[v]=0\n",
        "        elif result2[v] in list2:\n",
        "            result2[v]=1\n",
        "        else:\n",
        "            print(\"-1\")\n",
        "    score=metrics.accuracy_score(y_test,result2)\n",
        "    print(str(params['n_clusters'])+\" \"+str(score))\n",
        "    return {'loss':1-score, 'status': STATUS_OK }\n",
        "space = {\n",
        "    'n_clusters': hp.quniform('n_clusters', 2, 50, 1),\n",
        "}\n",
        "\n",
        "best = fmin(fn=objective,\n",
        "            space=space,\n",
        "            algo=tpe.suggest,\n",
        "            max_evals=20)\n",
        "print(\"Random Forest: Hyperopt estimated optimum {}\".format(best))"
      ]
    },
    {
      "cell_type": "code",
      "execution_count": null,
      "metadata": {
        "id": "iX3mXGdRw0aT",
        "colab": {
          "base_uri": "https://localhost:8080/"
        },
        "outputId": "cfe727a4-4bf4-4899-a3f4-0b0e51c3982a"
      },
      "outputs": [
        {
          "output_type": "stream",
          "name": "stdout",
          "text": [
            "              precision    recall  f1-score   support\n",
            "\n",
            "           0       0.66      0.93      0.77      2738\n",
            "           1       0.96      0.77      0.86      5796\n",
            "\n",
            "    accuracy                           0.83      8534\n",
            "   macro avg       0.81      0.85      0.82      8534\n",
            "weighted avg       0.86      0.83      0.83      8534\n",
            "\n",
            "0.8251699086008906\n",
            "[[2554  184]\n",
            " [1308 4488]]\n"
          ]
        }
      ],
      "source": [
        "CL_kmeans(X_train, X_test, y_train, y_test, 4)"
      ]
    },
    {
      "cell_type": "code",
      "execution_count": null,
      "metadata": {
        "id": "GYfBX7_1w35o"
      },
      "outputs": [],
      "source": [
        "def Anomaly_IDS(X_train, X_test, y_train, y_test,n,b=100):\n",
        "    # CL-kmeans\n",
        "    km_cluster = MiniBatchKMeans(n_clusters=n,batch_size=b)\n",
        "    result = km_cluster.fit_predict(X_train)\n",
        "    result2 = km_cluster.predict(X_test)\n",
        "\n",
        "    count=0\n",
        "    a=np.zeros(n)\n",
        "    b=np.zeros(n)\n",
        "    for v in range(0,n):\n",
        "        for i in range(0,len(y_train)):\n",
        "            if result[i]==v:\n",
        "                if y_train[i]==1:\n",
        "                    a[v]=a[v]+1\n",
        "                else:\n",
        "                    b[v]=b[v]+1\n",
        "    list1=[]\n",
        "    list2=[]\n",
        "    for v in range(0,n):\n",
        "        if a[v]<=b[v]:\n",
        "            list1.append(v)\n",
        "        else: \n",
        "            list2.append(v)\n",
        "    for v in range(0,len(y_test)):\n",
        "        if result2[v] in list1:\n",
        "            result2[v]=0\n",
        "        elif result2[v] in list2:\n",
        "            result2[v]=1\n",
        "        else:\n",
        "            print(\"-1\")\n",
        "    # print(classification_report(y_test, result2))\n",
        "    cm=confusion_matrix(y_test,result2)\n",
        "    acc=metrics.accuracy_score(y_test,result2)\n",
        "    # print(str(acc))\n",
        "    # print(cm)\n",
        "    return result2\n",
        "\n",
        "    "
      ]
    },
    {
      "cell_type": "code",
      "execution_count": null,
      "metadata": {
        "id": "DJGkW2vR1brU"
      },
      "outputs": [],
      "source": [
        "new_input = X_test"
      ]
    },
    {
      "cell_type": "code",
      "execution_count": null,
      "metadata": {
        "id": "R_IKyDcIz0GN"
      },
      "outputs": [],
      "source": [
        "new_output = (Anomaly_IDS(X_train, X_test, y_train, y_test,10,b=100))"
      ]
    },
    {
      "cell_type": "code",
      "execution_count": null,
      "metadata": {
        "id": "eKKvBikxIL44",
        "colab": {
          "base_uri": "https://localhost:8080/"
        },
        "outputId": "63be41d0-d74a-4644-a6dd-8415aae40b6e"
      },
      "outputs": [
        {
          "output_type": "stream",
          "name": "stdout",
          "text": [
            "DOS GOLDENEYE\n"
          ]
        }
      ],
      "source": [
        "new_output\n",
        "if new_output[1]==[0]:\n",
        "    print('BENIGN')\n",
        "elif new_output[1] == [1]:\n",
        "    print('DOS GOLDENEYE')\n",
        "elif new_output[1] == [2]:\n",
        "    print('DOS HULK')\n",
        "elif new_output[1] == [3]:\n",
        "    print('DOS SLOWHTTPTEST')\n",
        "else:\n",
        "    print('DOS SLOWLORIS')"
      ]
    },
    {
      "cell_type": "code",
      "execution_count": null,
      "metadata": {
        "id": "GGAPWdL77jMU"
      },
      "outputs": [],
      "source": [
        "new_output1 = stk.predict(new_input)"
      ]
    },
    {
      "cell_type": "code",
      "execution_count": null,
      "metadata": {
        "id": "BnnQx8h-5uBD",
        "colab": {
          "base_uri": "https://localhost:8080/"
        },
        "outputId": "b5f14778-cf17-46d1-950f-1fc6305183ea"
      },
      "outputs": [
        {
          "output_type": "stream",
          "name": "stdout",
          "text": [
            "Unknown attack\n"
          ]
        }
      ],
      "source": [
        "new_output\n",
        "if new_output[0]==[0]:\n",
        "    print('Normal')\n",
        "elif new_output[0] == [1]:\n",
        "    print('Unknown attack')"
      ]
    }
  ],
  "metadata": {
    "colab": {
      "provenance": [],
      "include_colab_link": true
    },
    "kernelspec": {
      "display_name": "Python 3",
      "name": "python3"
    },
    "language_info": {
      "name": "python"
    }
  },
  "nbformat": 4,
  "nbformat_minor": 0
}